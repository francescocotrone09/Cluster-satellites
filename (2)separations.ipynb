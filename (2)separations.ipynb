{
 "cells": [
  {
   "cell_type": "markdown",
   "metadata": {},
   "source": [
    "Subsequently, we can get distances between the 4 Cluster satellites by first getting the altitude of each cluster satellites and then by calculating the distances through 3D pithagoras utilizing x, y, and z coordinates previously extrapolated"
   ]
  },
  {
   "cell_type": "code",
   "execution_count": 1,
   "metadata": {},
   "outputs": [],
   "source": [
    "import speasy as spz\n",
    "import numpy as np\n",
    "from numpy import sqrt\n",
    "import pandas as pd\n",
    "from matplotlib import pyplot as plt\n",
    "import datetime as dt"
   ]
  },
  {
   "cell_type": "code",
   "execution_count": 2,
   "metadata": {},
   "outputs": [],
   "source": [
    "csa_tree = spz.inventories.data_tree.csa\n",
    "start_time = dt.datetime(2010,1,1,1,0)\n",
    "end_time = dt.datetime(2012,1,1,1,0)"
   ]
  },
  {
   "cell_type": "code",
   "execution_count": 3,
   "metadata": {},
   "outputs": [],
   "source": [
    "parameters = list(spz.inventories.flat_inventories.csa.parameters.keys())"
   ]
  },
  {
   "cell_type": "code",
   "execution_count": 4,
   "metadata": {},
   "outputs": [
    {
     "data": {
      "text/plain": [
       "['C1_CP_FGM_SPIN/B_vec_xyz_gse__C1_CP_FGM_SPIN',\n",
       " 'C1_CP_FGM_SPIN/B_mag__C1_CP_FGM_SPIN',\n",
       " 'C1_CP_FGM_SPIN/sc_pos_xyz_gse__C1_CP_FGM_SPIN',\n",
       " 'C1_CP_FGM_SPIN_ISR2/B_mag__C1_CP_FGM_SPIN_ISR2',\n",
       " 'C1_CP_FGM_SPIN_ISR2/B_vec_xyz_isr2__C1_CP_FGM_SPIN_ISR2',\n",
       " 'C1_CP_FGM_SPIN_ISR2/sc_pos_xyz_isr2__C1_CP_FGM_SPIN_ISR2',\n",
       " 'C1_CP_FGM_FULL/B_vec_xyz_gse__C1_CP_FGM_FULL',\n",
       " 'C1_CP_FGM_FULL/B_mag__C1_CP_FGM_FULL',\n",
       " 'C1_CP_FGM_FULL/sc_pos_xyz_gse__C1_CP_FGM_FULL',\n",
       " 'C1_CP_FGM_FULL_ISR2/B_mag__C1_CP_FGM_FULL_ISR2',\n",
       " 'C1_CP_FGM_FULL_ISR2/B_vec_xyz_isr2__C1_CP_FGM_FULL_ISR2',\n",
       " 'C1_CP_FGM_FULL_ISR2/sc_pos_xyz_isr2__C1_CP_FGM_FULL_ISR2',\n",
       " 'C1_CP_FGM_5VPS/B_vec_xyz_gse__C1_CP_FGM_5VPS',\n",
       " 'C1_CP_FGM_5VPS/B_mag__C1_CP_FGM_5VPS',\n",
       " 'C1_CP_FGM_5VPS/sc_pos_xyz_gse__C1_CP_FGM_5VPS',\n",
       " 'C1_CP_FGM_5VPS_ISR2/B_mag__C1_CP_FGM_5VPS_ISR2',\n",
       " 'C1_CP_FGM_5VPS_ISR2/B_vec_xyz_isr2__C1_CP_FGM_5VPS_ISR2',\n",
       " 'C1_CP_FGM_5VPS_ISR2/sc_pos_xyz_isr2__C1_CP_FGM_5VPS_ISR2']"
      ]
     },
     "execution_count": 4,
     "metadata": {},
     "output_type": "execute_result"
    }
   ],
   "source": [
    "[param for param in parameters if \"C1_CP_FGM\" in param]"
   ]
  },
  {
   "cell_type": "code",
   "execution_count": 5,
   "metadata": {},
   "outputs": [
    {
     "name": "stdout",
     "output_type": "stream",
     "text": [
      "[<ParameterIndex: B_vec_xyz_gse__C1_CP_FGM_SPIN>, <ParameterIndex: sc_pos_xyz_gse__C1_CP_FGM_SPIN>]\n",
      "[<ParameterIndex: sc_pos_xyz_gse__C1_CP_FGM_SPIN>]\n"
     ]
    }
   ],
   "source": [
    "mag_products1 = [\n",
    "    csa_tree.Cluster.Cluster_1.FGM1.C1_CP_FGM_SPIN.B_vec_xyz_gse__C1_CP_FGM_SPIN,\n",
    "    csa_tree.Cluster.Cluster_1.FGM1.C1_CP_FGM_SPIN.sc_pos_xyz_gse__C1_CP_FGM_SPIN\n",
    "]\n",
    "pos_prod1 = [csa_tree.Cluster.Cluster_1.FGM1.C1_CP_FGM_SPIN.sc_pos_xyz_gse__C1_CP_FGM_SPIN]\n",
    "mag_data1 = spz.get_data(mag_products1, start_time, end_time)\n",
    "pos_data1 = spz.get_data(pos_prod1, start_time, end_time)\n",
    "print(mag_products1)\n",
    "print(pos_prod1)"
   ]
  },
  {
   "cell_type": "code",
   "execution_count": 6,
   "metadata": {},
   "outputs": [],
   "source": [
    "position_gse1 = pos_data1[0].to_dataframe()"
   ]
  },
  {
   "cell_type": "code",
   "execution_count": 7,
   "metadata": {},
   "outputs": [
    {
     "data": {
      "text/html": [
       "<div>\n",
       "<style scoped>\n",
       "    .dataframe tbody tr th:only-of-type {\n",
       "        vertical-align: middle;\n",
       "    }\n",
       "\n",
       "    .dataframe tbody tr th {\n",
       "        vertical-align: top;\n",
       "    }\n",
       "\n",
       "    .dataframe thead th {\n",
       "        text-align: right;\n",
       "    }\n",
       "</style>\n",
       "<table border=\"1\" class=\"dataframe\">\n",
       "  <thead>\n",
       "    <tr style=\"text-align: right;\">\n",
       "      <th></th>\n",
       "      <th>x</th>\n",
       "      <th>y</th>\n",
       "      <th>z</th>\n",
       "    </tr>\n",
       "  </thead>\n",
       "  <tbody>\n",
       "    <tr>\n",
       "      <th>2010-01-01 01:00:02.876</th>\n",
       "      <td>57241.101562</td>\n",
       "      <td>62513.601562</td>\n",
       "      <td>-59393.000000</td>\n",
       "    </tr>\n",
       "    <tr>\n",
       "      <th>2010-01-01 01:00:07.075</th>\n",
       "      <td>57240.500000</td>\n",
       "      <td>62507.800781</td>\n",
       "      <td>-59390.699219</td>\n",
       "    </tr>\n",
       "    <tr>\n",
       "      <th>2010-01-01 01:00:11.273</th>\n",
       "      <td>57239.898438</td>\n",
       "      <td>62502.000000</td>\n",
       "      <td>-59388.398438</td>\n",
       "    </tr>\n",
       "    <tr>\n",
       "      <th>2010-01-01 01:00:15.472</th>\n",
       "      <td>57239.300781</td>\n",
       "      <td>62496.101562</td>\n",
       "      <td>-59386.101562</td>\n",
       "    </tr>\n",
       "    <tr>\n",
       "      <th>2010-01-01 01:00:19.670</th>\n",
       "      <td>57238.699219</td>\n",
       "      <td>62490.300781</td>\n",
       "      <td>-59383.800781</td>\n",
       "    </tr>\n",
       "    <tr>\n",
       "      <th>...</th>\n",
       "      <td>...</td>\n",
       "      <td>...</td>\n",
       "      <td>...</td>\n",
       "    </tr>\n",
       "    <tr>\n",
       "      <th>2012-01-01 00:59:39.543</th>\n",
       "      <td>57777.601562</td>\n",
       "      <td>95939.703125</td>\n",
       "      <td>-68664.796875</td>\n",
       "    </tr>\n",
       "    <tr>\n",
       "      <th>2012-01-01 00:59:43.760</th>\n",
       "      <td>57779.500000</td>\n",
       "      <td>95937.898438</td>\n",
       "      <td>-68662.796875</td>\n",
       "    </tr>\n",
       "    <tr>\n",
       "      <th>2012-01-01 00:59:47.978</th>\n",
       "      <td>57781.398438</td>\n",
       "      <td>95936.101562</td>\n",
       "      <td>-68660.703125</td>\n",
       "    </tr>\n",
       "    <tr>\n",
       "      <th>2012-01-01 00:59:52.195</th>\n",
       "      <td>57783.300781</td>\n",
       "      <td>95934.296875</td>\n",
       "      <td>-68658.703125</td>\n",
       "    </tr>\n",
       "    <tr>\n",
       "      <th>2012-01-01 00:59:56.413</th>\n",
       "      <td>57785.199219</td>\n",
       "      <td>95932.500000</td>\n",
       "      <td>-68656.601562</td>\n",
       "    </tr>\n",
       "  </tbody>\n",
       "</table>\n",
       "<p>13297602 rows × 3 columns</p>\n",
       "</div>"
      ],
      "text/plain": [
       "                                    x             y             z\n",
       "2010-01-01 01:00:02.876  57241.101562  62513.601562 -59393.000000\n",
       "2010-01-01 01:00:07.075  57240.500000  62507.800781 -59390.699219\n",
       "2010-01-01 01:00:11.273  57239.898438  62502.000000 -59388.398438\n",
       "2010-01-01 01:00:15.472  57239.300781  62496.101562 -59386.101562\n",
       "2010-01-01 01:00:19.670  57238.699219  62490.300781 -59383.800781\n",
       "...                               ...           ...           ...\n",
       "2012-01-01 00:59:39.543  57777.601562  95939.703125 -68664.796875\n",
       "2012-01-01 00:59:43.760  57779.500000  95937.898438 -68662.796875\n",
       "2012-01-01 00:59:47.978  57781.398438  95936.101562 -68660.703125\n",
       "2012-01-01 00:59:52.195  57783.300781  95934.296875 -68658.703125\n",
       "2012-01-01 00:59:56.413  57785.199219  95932.500000 -68656.601562\n",
       "\n",
       "[13297602 rows x 3 columns]"
      ]
     },
     "execution_count": 7,
     "metadata": {},
     "output_type": "execute_result"
    }
   ],
   "source": [
    "position_gse1\n"
   ]
  },
  {
   "cell_type": "code",
   "execution_count": 8,
   "metadata": {},
   "outputs": [
    {
     "data": {
      "text/plain": [
       "['C2_CP_FGM_5VPS_ISR2/B_mag__C2_CP_FGM_5VPS_ISR2',\n",
       " 'C2_CP_FGM_5VPS_ISR2/B_vec_xyz_isr2__C2_CP_FGM_5VPS_ISR2',\n",
       " 'C2_CP_FGM_5VPS_ISR2/sc_pos_xyz_isr2__C2_CP_FGM_5VPS_ISR2',\n",
       " 'C2_CP_FGM_5VPS/B_vec_xyz_gse__C2_CP_FGM_5VPS',\n",
       " 'C2_CP_FGM_5VPS/B_mag__C2_CP_FGM_5VPS',\n",
       " 'C2_CP_FGM_5VPS/sc_pos_xyz_gse__C2_CP_FGM_5VPS',\n",
       " 'C2_CP_FGM_FULL_ISR2/B_mag__C2_CP_FGM_FULL_ISR2',\n",
       " 'C2_CP_FGM_FULL_ISR2/B_vec_xyz_isr2__C2_CP_FGM_FULL_ISR2',\n",
       " 'C2_CP_FGM_FULL_ISR2/sc_pos_xyz_isr2__C2_CP_FGM_FULL_ISR2',\n",
       " 'C2_CP_FGM_FULL/B_vec_xyz_gse__C2_CP_FGM_FULL',\n",
       " 'C2_CP_FGM_FULL/B_mag__C2_CP_FGM_FULL',\n",
       " 'C2_CP_FGM_FULL/sc_pos_xyz_gse__C2_CP_FGM_FULL',\n",
       " 'C2_CP_FGM_SPIN_ISR2/B_mag__C2_CP_FGM_SPIN_ISR2',\n",
       " 'C2_CP_FGM_SPIN_ISR2/B_vec_xyz_isr2__C2_CP_FGM_SPIN_ISR2',\n",
       " 'C2_CP_FGM_SPIN_ISR2/sc_pos_xyz_isr2__C2_CP_FGM_SPIN_ISR2',\n",
       " 'C2_CP_FGM_SPIN/B_vec_xyz_gse__C2_CP_FGM_SPIN',\n",
       " 'C2_CP_FGM_SPIN/B_mag__C2_CP_FGM_SPIN',\n",
       " 'C2_CP_FGM_SPIN/sc_pos_xyz_gse__C2_CP_FGM_SPIN']"
      ]
     },
     "execution_count": 8,
     "metadata": {},
     "output_type": "execute_result"
    }
   ],
   "source": [
    "[param for param in parameters if \"C2_CP_FGM\" in param]"
   ]
  },
  {
   "cell_type": "code",
   "execution_count": 9,
   "metadata": {},
   "outputs": [
    {
     "name": "stdout",
     "output_type": "stream",
     "text": [
      "[<ParameterIndex: B_vec_xyz_gse__C2_CP_FGM_SPIN>, <ParameterIndex: sc_pos_xyz_gse__C2_CP_FGM_SPIN>]\n",
      "[<ParameterIndex: sc_pos_xyz_gse__C2_CP_FGM_SPIN>]\n"
     ]
    }
   ],
   "source": [
    "mag_products2 = [\n",
    "    csa_tree.Cluster.Cluster_2.FGM2.C2_CP_FGM_SPIN.B_vec_xyz_gse__C2_CP_FGM_SPIN,\n",
    "    csa_tree.Cluster.Cluster_2.FGM2.C2_CP_FGM_SPIN.sc_pos_xyz_gse__C2_CP_FGM_SPIN\n",
    "]\n",
    "pos_prod2 = [csa_tree.Cluster.Cluster_2.FGM2.C2_CP_FGM_SPIN.sc_pos_xyz_gse__C2_CP_FGM_SPIN]\n",
    "mag_data2 = spz.get_data(mag_products2, start_time, end_time)\n",
    "pos_data2 = spz.get_data(pos_prod2, start_time, end_time)\n",
    "print(mag_products2)\n",
    "print(pos_prod2)"
   ]
  },
  {
   "cell_type": "code",
   "execution_count": 10,
   "metadata": {},
   "outputs": [],
   "source": [
    "position_gse2 = pos_data2[0].to_dataframe()"
   ]
  },
  {
   "cell_type": "code",
   "execution_count": 11,
   "metadata": {},
   "outputs": [
    {
     "data": {
      "text/html": [
       "<div>\n",
       "<style scoped>\n",
       "    .dataframe tbody tr th:only-of-type {\n",
       "        vertical-align: middle;\n",
       "    }\n",
       "\n",
       "    .dataframe tbody tr th {\n",
       "        vertical-align: top;\n",
       "    }\n",
       "\n",
       "    .dataframe thead th {\n",
       "        text-align: right;\n",
       "    }\n",
       "</style>\n",
       "<table border=\"1\" class=\"dataframe\">\n",
       "  <thead>\n",
       "    <tr style=\"text-align: right;\">\n",
       "      <th></th>\n",
       "      <th>x</th>\n",
       "      <th>y</th>\n",
       "      <th>z</th>\n",
       "    </tr>\n",
       "  </thead>\n",
       "  <tbody>\n",
       "    <tr>\n",
       "      <th>2010-01-01 01:00:02.525</th>\n",
       "      <td>56496.699219</td>\n",
       "      <td>64543.199219</td>\n",
       "      <td>-59953.199219</td>\n",
       "    </tr>\n",
       "    <tr>\n",
       "      <th>2010-01-01 01:00:06.664</th>\n",
       "      <td>56495.601562</td>\n",
       "      <td>64537.398438</td>\n",
       "      <td>-59951.500000</td>\n",
       "    </tr>\n",
       "    <tr>\n",
       "      <th>2010-01-01 01:00:10.803</th>\n",
       "      <td>56494.500000</td>\n",
       "      <td>64531.699219</td>\n",
       "      <td>-59949.800781</td>\n",
       "    </tr>\n",
       "    <tr>\n",
       "      <th>2010-01-01 01:00:14.943</th>\n",
       "      <td>56493.398438</td>\n",
       "      <td>64525.898438</td>\n",
       "      <td>-59948.101562</td>\n",
       "    </tr>\n",
       "    <tr>\n",
       "      <th>2010-01-01 01:00:19.082</th>\n",
       "      <td>56492.300781</td>\n",
       "      <td>64520.199219</td>\n",
       "      <td>-59946.398438</td>\n",
       "    </tr>\n",
       "    <tr>\n",
       "      <th>...</th>\n",
       "      <td>...</td>\n",
       "      <td>...</td>\n",
       "      <td>...</td>\n",
       "    </tr>\n",
       "    <tr>\n",
       "      <th>2012-01-01 00:59:42.771</th>\n",
       "      <td>56948.699219</td>\n",
       "      <td>96779.898438</td>\n",
       "      <td>-74504.203125</td>\n",
       "    </tr>\n",
       "    <tr>\n",
       "      <th>2012-01-01 00:59:46.907</th>\n",
       "      <td>56950.300781</td>\n",
       "      <td>96778.203125</td>\n",
       "      <td>-74502.500000</td>\n",
       "    </tr>\n",
       "    <tr>\n",
       "      <th>2012-01-01 00:59:51.043</th>\n",
       "      <td>56951.800781</td>\n",
       "      <td>96776.601562</td>\n",
       "      <td>-74500.898438</td>\n",
       "    </tr>\n",
       "    <tr>\n",
       "      <th>2012-01-01 00:59:55.179</th>\n",
       "      <td>56953.398438</td>\n",
       "      <td>96775.000000</td>\n",
       "      <td>-74499.203125</td>\n",
       "    </tr>\n",
       "    <tr>\n",
       "      <th>2012-01-01 00:59:59.315</th>\n",
       "      <td>56954.898438</td>\n",
       "      <td>96773.296875</td>\n",
       "      <td>-74497.500000</td>\n",
       "    </tr>\n",
       "  </tbody>\n",
       "</table>\n",
       "<p>14395363 rows × 3 columns</p>\n",
       "</div>"
      ],
      "text/plain": [
       "                                    x             y             z\n",
       "2010-01-01 01:00:02.525  56496.699219  64543.199219 -59953.199219\n",
       "2010-01-01 01:00:06.664  56495.601562  64537.398438 -59951.500000\n",
       "2010-01-01 01:00:10.803  56494.500000  64531.699219 -59949.800781\n",
       "2010-01-01 01:00:14.943  56493.398438  64525.898438 -59948.101562\n",
       "2010-01-01 01:00:19.082  56492.300781  64520.199219 -59946.398438\n",
       "...                               ...           ...           ...\n",
       "2012-01-01 00:59:42.771  56948.699219  96779.898438 -74504.203125\n",
       "2012-01-01 00:59:46.907  56950.300781  96778.203125 -74502.500000\n",
       "2012-01-01 00:59:51.043  56951.800781  96776.601562 -74500.898438\n",
       "2012-01-01 00:59:55.179  56953.398438  96775.000000 -74499.203125\n",
       "2012-01-01 00:59:59.315  56954.898438  96773.296875 -74497.500000\n",
       "\n",
       "[14395363 rows x 3 columns]"
      ]
     },
     "execution_count": 11,
     "metadata": {},
     "output_type": "execute_result"
    }
   ],
   "source": [
    "position_gse2"
   ]
  },
  {
   "cell_type": "code",
   "execution_count": 12,
   "metadata": {},
   "outputs": [
    {
     "data": {
      "text/plain": [
       "['C3_CP_FGM_5VPS_ISR2/B_mag__C3_CP_FGM_5VPS_ISR2',\n",
       " 'C3_CP_FGM_5VPS_ISR2/B_vec_xyz_isr2__C3_CP_FGM_5VPS_ISR2',\n",
       " 'C3_CP_FGM_5VPS_ISR2/sc_pos_xyz_isr2__C3_CP_FGM_5VPS_ISR2',\n",
       " 'C3_CP_FGM_5VPS/B_vec_xyz_gse__C3_CP_FGM_5VPS',\n",
       " 'C3_CP_FGM_5VPS/B_mag__C3_CP_FGM_5VPS',\n",
       " 'C3_CP_FGM_5VPS/sc_pos_xyz_gse__C3_CP_FGM_5VPS',\n",
       " 'C3_CP_FGM_FULL_ISR2/B_mag__C3_CP_FGM_FULL_ISR2',\n",
       " 'C3_CP_FGM_FULL_ISR2/B_vec_xyz_isr2__C3_CP_FGM_FULL_ISR2',\n",
       " 'C3_CP_FGM_FULL_ISR2/sc_pos_xyz_isr2__C3_CP_FGM_FULL_ISR2',\n",
       " 'C3_CP_FGM_FULL/B_vec_xyz_gse__C3_CP_FGM_FULL',\n",
       " 'C3_CP_FGM_FULL/B_mag__C3_CP_FGM_FULL',\n",
       " 'C3_CP_FGM_FULL/sc_pos_xyz_gse__C3_CP_FGM_FULL',\n",
       " 'C3_CP_FGM_SPIN_ISR2/B_mag__C3_CP_FGM_SPIN_ISR2',\n",
       " 'C3_CP_FGM_SPIN_ISR2/B_vec_xyz_isr2__C3_CP_FGM_SPIN_ISR2',\n",
       " 'C3_CP_FGM_SPIN_ISR2/sc_pos_xyz_isr2__C3_CP_FGM_SPIN_ISR2',\n",
       " 'C3_CP_FGM_SPIN/B_vec_xyz_gse__C3_CP_FGM_SPIN',\n",
       " 'C3_CP_FGM_SPIN/B_mag__C3_CP_FGM_SPIN',\n",
       " 'C3_CP_FGM_SPIN/sc_pos_xyz_gse__C3_CP_FGM_SPIN']"
      ]
     },
     "execution_count": 12,
     "metadata": {},
     "output_type": "execute_result"
    }
   ],
   "source": [
    "[param for param in parameters if \"C3_CP_FGM\" in param]"
   ]
  },
  {
   "cell_type": "code",
   "execution_count": 13,
   "metadata": {},
   "outputs": [],
   "source": [
    "mag_products3 = [\n",
    "    csa_tree.Cluster.Cluster_3.FGM3.C3_CP_FGM_SPIN.B_vec_xyz_gse__C3_CP_FGM_SPIN,\n",
    "    csa_tree.Cluster.Cluster_3.FGM3.C3_CP_FGM_SPIN.sc_pos_xyz_gse__C3_CP_FGM_SPIN\n",
    "]\n",
    "pos_prod3 = [csa_tree.Cluster.Cluster_3.FGM3.C3_CP_FGM_SPIN.sc_pos_xyz_gse__C3_CP_FGM_SPIN]\n",
    "mag_data3 = spz.get_data(mag_products3, start_time, end_time)\n",
    "pos_data3 = spz.get_data(pos_prod3, start_time, end_time)"
   ]
  },
  {
   "cell_type": "code",
   "execution_count": 14,
   "metadata": {},
   "outputs": [],
   "source": [
    "position_gse3 = pos_data3[0].to_dataframe()"
   ]
  },
  {
   "cell_type": "code",
   "execution_count": 15,
   "metadata": {},
   "outputs": [
    {
     "data": {
      "text/html": [
       "<div>\n",
       "<style scoped>\n",
       "    .dataframe tbody tr th:only-of-type {\n",
       "        vertical-align: middle;\n",
       "    }\n",
       "\n",
       "    .dataframe tbody tr th {\n",
       "        vertical-align: top;\n",
       "    }\n",
       "\n",
       "    .dataframe thead th {\n",
       "        text-align: right;\n",
       "    }\n",
       "</style>\n",
       "<table border=\"1\" class=\"dataframe\">\n",
       "  <thead>\n",
       "    <tr style=\"text-align: right;\">\n",
       "      <th></th>\n",
       "      <th>x</th>\n",
       "      <th>y</th>\n",
       "      <th>z</th>\n",
       "    </tr>\n",
       "  </thead>\n",
       "  <tbody>\n",
       "    <tr>\n",
       "      <th>2010-01-01 01:00:01.045</th>\n",
       "      <td>58074.601562</td>\n",
       "      <td>61465.398438</td>\n",
       "      <td>-61952.300781</td>\n",
       "    </tr>\n",
       "    <tr>\n",
       "      <th>2010-01-01 01:00:05.215</th>\n",
       "      <td>58073.800781</td>\n",
       "      <td>61459.800781</td>\n",
       "      <td>-61950.000000</td>\n",
       "    </tr>\n",
       "    <tr>\n",
       "      <th>2010-01-01 01:00:09.386</th>\n",
       "      <td>58072.898438</td>\n",
       "      <td>61454.199219</td>\n",
       "      <td>-61947.601562</td>\n",
       "    </tr>\n",
       "    <tr>\n",
       "      <th>2010-01-01 01:00:13.556</th>\n",
       "      <td>58072.101562</td>\n",
       "      <td>61448.601562</td>\n",
       "      <td>-61945.300781</td>\n",
       "    </tr>\n",
       "    <tr>\n",
       "      <th>2010-01-01 01:00:17.726</th>\n",
       "      <td>58071.300781</td>\n",
       "      <td>61443.000000</td>\n",
       "      <td>-61943.000000</td>\n",
       "    </tr>\n",
       "    <tr>\n",
       "      <th>...</th>\n",
       "      <td>...</td>\n",
       "      <td>...</td>\n",
       "      <td>...</td>\n",
       "    </tr>\n",
       "    <tr>\n",
       "      <th>2012-01-01 00:59:39.450</th>\n",
       "      <td>59675.898438</td>\n",
       "      <td>93492.500000</td>\n",
       "      <td>-71765.601562</td>\n",
       "    </tr>\n",
       "    <tr>\n",
       "      <th>2012-01-01 00:59:43.634</th>\n",
       "      <td>59677.601562</td>\n",
       "      <td>93490.898438</td>\n",
       "      <td>-71763.500000</td>\n",
       "    </tr>\n",
       "    <tr>\n",
       "      <th>2012-01-01 00:59:47.818</th>\n",
       "      <td>59679.398438</td>\n",
       "      <td>93489.203125</td>\n",
       "      <td>-71761.398438</td>\n",
       "    </tr>\n",
       "    <tr>\n",
       "      <th>2012-01-01 00:59:52.002</th>\n",
       "      <td>59681.101562</td>\n",
       "      <td>93487.601562</td>\n",
       "      <td>-71759.296875</td>\n",
       "    </tr>\n",
       "    <tr>\n",
       "      <th>2012-01-01 00:59:56.187</th>\n",
       "      <td>59682.800781</td>\n",
       "      <td>93485.898438</td>\n",
       "      <td>-71757.101562</td>\n",
       "    </tr>\n",
       "  </tbody>\n",
       "</table>\n",
       "<p>13359825 rows × 3 columns</p>\n",
       "</div>"
      ],
      "text/plain": [
       "                                    x             y             z\n",
       "2010-01-01 01:00:01.045  58074.601562  61465.398438 -61952.300781\n",
       "2010-01-01 01:00:05.215  58073.800781  61459.800781 -61950.000000\n",
       "2010-01-01 01:00:09.386  58072.898438  61454.199219 -61947.601562\n",
       "2010-01-01 01:00:13.556  58072.101562  61448.601562 -61945.300781\n",
       "2010-01-01 01:00:17.726  58071.300781  61443.000000 -61943.000000\n",
       "...                               ...           ...           ...\n",
       "2012-01-01 00:59:39.450  59675.898438  93492.500000 -71765.601562\n",
       "2012-01-01 00:59:43.634  59677.601562  93490.898438 -71763.500000\n",
       "2012-01-01 00:59:47.818  59679.398438  93489.203125 -71761.398438\n",
       "2012-01-01 00:59:52.002  59681.101562  93487.601562 -71759.296875\n",
       "2012-01-01 00:59:56.187  59682.800781  93485.898438 -71757.101562\n",
       "\n",
       "[13359825 rows x 3 columns]"
      ]
     },
     "execution_count": 15,
     "metadata": {},
     "output_type": "execute_result"
    }
   ],
   "source": [
    "position_gse3"
   ]
  },
  {
   "cell_type": "code",
   "execution_count": 16,
   "metadata": {},
   "outputs": [
    {
     "data": {
      "text/plain": [
       "['C4_CP_FGM_5VPS_ISR2/B_mag__C4_CP_FGM_5VPS_ISR2',\n",
       " 'C4_CP_FGM_5VPS_ISR2/B_vec_xyz_isr2__C4_CP_FGM_5VPS_ISR2',\n",
       " 'C4_CP_FGM_5VPS_ISR2/sc_pos_xyz_isr2__C4_CP_FGM_5VPS_ISR2',\n",
       " 'C4_CP_FGM_5VPS/B_vec_xyz_gse__C4_CP_FGM_5VPS',\n",
       " 'C4_CP_FGM_5VPS/B_mag__C4_CP_FGM_5VPS',\n",
       " 'C4_CP_FGM_5VPS/sc_pos_xyz_gse__C4_CP_FGM_5VPS',\n",
       " 'C4_CP_FGM_FULL_ISR2/B_mag__C4_CP_FGM_FULL_ISR2',\n",
       " 'C4_CP_FGM_FULL_ISR2/B_vec_xyz_isr2__C4_CP_FGM_FULL_ISR2',\n",
       " 'C4_CP_FGM_FULL_ISR2/sc_pos_xyz_isr2__C4_CP_FGM_FULL_ISR2',\n",
       " 'C4_CP_FGM_FULL/B_vec_xyz_gse__C4_CP_FGM_FULL',\n",
       " 'C4_CP_FGM_FULL/B_mag__C4_CP_FGM_FULL',\n",
       " 'C4_CP_FGM_FULL/sc_pos_xyz_gse__C4_CP_FGM_FULL',\n",
       " 'C4_CP_FGM_SPIN_ISR2/B_mag__C4_CP_FGM_SPIN_ISR2',\n",
       " 'C4_CP_FGM_SPIN_ISR2/B_vec_xyz_isr2__C4_CP_FGM_SPIN_ISR2',\n",
       " 'C4_CP_FGM_SPIN_ISR2/sc_pos_xyz_isr2__C4_CP_FGM_SPIN_ISR2',\n",
       " 'C4_CP_FGM_SPIN/B_vec_xyz_gse__C4_CP_FGM_SPIN',\n",
       " 'C4_CP_FGM_SPIN/B_mag__C4_CP_FGM_SPIN',\n",
       " 'C4_CP_FGM_SPIN/sc_pos_xyz_gse__C4_CP_FGM_SPIN']"
      ]
     },
     "execution_count": 16,
     "metadata": {},
     "output_type": "execute_result"
    }
   ],
   "source": [
    "[param for param in parameters if \"C4_CP_FGM\" in param]"
   ]
  },
  {
   "cell_type": "code",
   "execution_count": 17,
   "metadata": {},
   "outputs": [],
   "source": [
    "mag_products4 = [\n",
    "    csa_tree.Cluster.Cluster_4.FGM4.C4_CP_FGM_SPIN.B_vec_xyz_gse__C4_CP_FGM_SPIN,\n",
    "    csa_tree.Cluster.Cluster_4.FGM4.C4_CP_FGM_SPIN.sc_pos_xyz_gse__C4_CP_FGM_SPIN\n",
    "]\n"
   ]
  },
  {
   "cell_type": "code",
   "execution_count": 18,
   "metadata": {},
   "outputs": [],
   "source": [
    "pos_prod4 = [csa_tree.Cluster.Cluster_4.FGM4.C4_CP_FGM_SPIN.sc_pos_xyz_gse__C4_CP_FGM_SPIN]"
   ]
  },
  {
   "cell_type": "code",
   "execution_count": 20,
   "metadata": {},
   "outputs": [],
   "source": [
    "pos_data4 = spz.get_data(pos_prod4, start_time, end_time)"
   ]
  },
  {
   "cell_type": "code",
   "execution_count": 21,
   "metadata": {},
   "outputs": [],
   "source": [
    "position_gse4 = pos_data4[0].to_dataframe()"
   ]
  },
  {
   "cell_type": "code",
   "execution_count": 22,
   "metadata": {},
   "outputs": [
    {
     "data": {
      "text/html": [
       "<div>\n",
       "<style scoped>\n",
       "    .dataframe tbody tr th:only-of-type {\n",
       "        vertical-align: middle;\n",
       "    }\n",
       "\n",
       "    .dataframe tbody tr th {\n",
       "        vertical-align: top;\n",
       "    }\n",
       "\n",
       "    .dataframe thead th {\n",
       "        text-align: right;\n",
       "    }\n",
       "</style>\n",
       "<table border=\"1\" class=\"dataframe\">\n",
       "  <thead>\n",
       "    <tr style=\"text-align: right;\">\n",
       "      <th></th>\n",
       "      <th>x</th>\n",
       "      <th>y</th>\n",
       "      <th>z</th>\n",
       "    </tr>\n",
       "  </thead>\n",
       "  <tbody>\n",
       "    <tr>\n",
       "      <th>2010-01-01 01:00:03.664</th>\n",
       "      <td>58090.898438</td>\n",
       "      <td>61086.199219</td>\n",
       "      <td>-61870.500000</td>\n",
       "    </tr>\n",
       "    <tr>\n",
       "      <th>2010-01-01 01:00:07.775</th>\n",
       "      <td>58090.000000</td>\n",
       "      <td>61080.601562</td>\n",
       "      <td>-61868.199219</td>\n",
       "    </tr>\n",
       "    <tr>\n",
       "      <th>2010-01-01 01:00:11.886</th>\n",
       "      <td>58089.199219</td>\n",
       "      <td>61075.101562</td>\n",
       "      <td>-61865.898438</td>\n",
       "    </tr>\n",
       "    <tr>\n",
       "      <th>2010-01-01 01:00:15.998</th>\n",
       "      <td>58088.300781</td>\n",
       "      <td>61069.601562</td>\n",
       "      <td>-61863.601562</td>\n",
       "    </tr>\n",
       "    <tr>\n",
       "      <th>2010-01-01 01:00:20.109</th>\n",
       "      <td>58087.500000</td>\n",
       "      <td>61064.000000</td>\n",
       "      <td>-61861.300781</td>\n",
       "    </tr>\n",
       "    <tr>\n",
       "      <th>...</th>\n",
       "      <td>...</td>\n",
       "      <td>...</td>\n",
       "      <td>...</td>\n",
       "    </tr>\n",
       "    <tr>\n",
       "      <th>2012-01-01 00:59:42.245</th>\n",
       "      <td>59668.398438</td>\n",
       "      <td>93462.398438</td>\n",
       "      <td>-71787.500000</td>\n",
       "    </tr>\n",
       "    <tr>\n",
       "      <th>2012-01-01 00:59:46.363</th>\n",
       "      <td>59670.101562</td>\n",
       "      <td>93460.796875</td>\n",
       "      <td>-71785.500000</td>\n",
       "    </tr>\n",
       "    <tr>\n",
       "      <th>2012-01-01 00:59:50.482</th>\n",
       "      <td>59671.800781</td>\n",
       "      <td>93459.203125</td>\n",
       "      <td>-71783.398438</td>\n",
       "    </tr>\n",
       "    <tr>\n",
       "      <th>2012-01-01 00:59:54.600</th>\n",
       "      <td>59673.500000</td>\n",
       "      <td>93457.601562</td>\n",
       "      <td>-71781.296875</td>\n",
       "    </tr>\n",
       "    <tr>\n",
       "      <th>2012-01-01 00:59:58.718</th>\n",
       "      <td>59675.199219</td>\n",
       "      <td>93455.898438</td>\n",
       "      <td>-71779.203125</td>\n",
       "    </tr>\n",
       "  </tbody>\n",
       "</table>\n",
       "<p>13553363 rows × 3 columns</p>\n",
       "</div>"
      ],
      "text/plain": [
       "                                    x             y             z\n",
       "2010-01-01 01:00:03.664  58090.898438  61086.199219 -61870.500000\n",
       "2010-01-01 01:00:07.775  58090.000000  61080.601562 -61868.199219\n",
       "2010-01-01 01:00:11.886  58089.199219  61075.101562 -61865.898438\n",
       "2010-01-01 01:00:15.998  58088.300781  61069.601562 -61863.601562\n",
       "2010-01-01 01:00:20.109  58087.500000  61064.000000 -61861.300781\n",
       "...                               ...           ...           ...\n",
       "2012-01-01 00:59:42.245  59668.398438  93462.398438 -71787.500000\n",
       "2012-01-01 00:59:46.363  59670.101562  93460.796875 -71785.500000\n",
       "2012-01-01 00:59:50.482  59671.800781  93459.203125 -71783.398438\n",
       "2012-01-01 00:59:54.600  59673.500000  93457.601562 -71781.296875\n",
       "2012-01-01 00:59:58.718  59675.199219  93455.898438 -71779.203125\n",
       "\n",
       "[13553363 rows x 3 columns]"
      ]
     },
     "execution_count": 22,
     "metadata": {},
     "output_type": "execute_result"
    }
   ],
   "source": [
    "position_gse4"
   ]
  },
  {
   "cell_type": "code",
   "execution_count": 23,
   "metadata": {},
   "outputs": [
    {
     "data": {
      "text/html": [
       "<div>\n",
       "<style scoped>\n",
       "    .dataframe tbody tr th:only-of-type {\n",
       "        vertical-align: middle;\n",
       "    }\n",
       "\n",
       "    .dataframe tbody tr th {\n",
       "        vertical-align: top;\n",
       "    }\n",
       "\n",
       "    .dataframe thead th {\n",
       "        text-align: right;\n",
       "    }\n",
       "</style>\n",
       "<table border=\"1\" class=\"dataframe\">\n",
       "  <thead>\n",
       "    <tr style=\"text-align: right;\">\n",
       "      <th></th>\n",
       "      <th>x</th>\n",
       "    </tr>\n",
       "  </thead>\n",
       "  <tbody>\n",
       "    <tr>\n",
       "      <th>2010-01-01 01:00:02.876</th>\n",
       "      <td>57241.101562</td>\n",
       "    </tr>\n",
       "    <tr>\n",
       "      <th>2010-01-01 01:00:07.075</th>\n",
       "      <td>57240.500000</td>\n",
       "    </tr>\n",
       "    <tr>\n",
       "      <th>2010-01-01 01:00:11.273</th>\n",
       "      <td>57239.898438</td>\n",
       "    </tr>\n",
       "    <tr>\n",
       "      <th>2010-01-01 01:00:15.472</th>\n",
       "      <td>57239.300781</td>\n",
       "    </tr>\n",
       "    <tr>\n",
       "      <th>2010-01-01 01:00:19.670</th>\n",
       "      <td>57238.699219</td>\n",
       "    </tr>\n",
       "    <tr>\n",
       "      <th>...</th>\n",
       "      <td>...</td>\n",
       "    </tr>\n",
       "    <tr>\n",
       "      <th>2012-01-01 00:59:39.543</th>\n",
       "      <td>57777.601562</td>\n",
       "    </tr>\n",
       "    <tr>\n",
       "      <th>2012-01-01 00:59:43.760</th>\n",
       "      <td>57779.500000</td>\n",
       "    </tr>\n",
       "    <tr>\n",
       "      <th>2012-01-01 00:59:47.978</th>\n",
       "      <td>57781.398438</td>\n",
       "    </tr>\n",
       "    <tr>\n",
       "      <th>2012-01-01 00:59:52.195</th>\n",
       "      <td>57783.300781</td>\n",
       "    </tr>\n",
       "    <tr>\n",
       "      <th>2012-01-01 00:59:56.413</th>\n",
       "      <td>57785.199219</td>\n",
       "    </tr>\n",
       "  </tbody>\n",
       "</table>\n",
       "<p>13297602 rows × 1 columns</p>\n",
       "</div>"
      ],
      "text/plain": [
       "                                    x\n",
       "2010-01-01 01:00:02.876  57241.101562\n",
       "2010-01-01 01:00:07.075  57240.500000\n",
       "2010-01-01 01:00:11.273  57239.898438\n",
       "2010-01-01 01:00:15.472  57239.300781\n",
       "2010-01-01 01:00:19.670  57238.699219\n",
       "...                               ...\n",
       "2012-01-01 00:59:39.543  57777.601562\n",
       "2012-01-01 00:59:43.760  57779.500000\n",
       "2012-01-01 00:59:47.978  57781.398438\n",
       "2012-01-01 00:59:52.195  57783.300781\n",
       "2012-01-01 00:59:56.413  57785.199219\n",
       "\n",
       "[13297602 rows x 1 columns]"
      ]
     },
     "execution_count": 23,
     "metadata": {},
     "output_type": "execute_result"
    }
   ],
   "source": [
    "x1 = position_gse1.get(['x'])\n",
    "\n",
    "x1"
   ]
  },
  {
   "cell_type": "code",
   "execution_count": 24,
   "metadata": {},
   "outputs": [
    {
     "data": {
      "text/html": [
       "<div>\n",
       "<style scoped>\n",
       "    .dataframe tbody tr th:only-of-type {\n",
       "        vertical-align: middle;\n",
       "    }\n",
       "\n",
       "    .dataframe tbody tr th {\n",
       "        vertical-align: top;\n",
       "    }\n",
       "\n",
       "    .dataframe thead th {\n",
       "        text-align: right;\n",
       "    }\n",
       "</style>\n",
       "<table border=\"1\" class=\"dataframe\">\n",
       "  <thead>\n",
       "    <tr style=\"text-align: right;\">\n",
       "      <th></th>\n",
       "      <th>x</th>\n",
       "    </tr>\n",
       "  </thead>\n",
       "  <tbody>\n",
       "    <tr>\n",
       "      <th>2010-01-01 01:00:02.525</th>\n",
       "      <td>56496.699219</td>\n",
       "    </tr>\n",
       "    <tr>\n",
       "      <th>2010-01-01 01:00:06.664</th>\n",
       "      <td>56495.601562</td>\n",
       "    </tr>\n",
       "    <tr>\n",
       "      <th>2010-01-01 01:00:10.803</th>\n",
       "      <td>56494.500000</td>\n",
       "    </tr>\n",
       "    <tr>\n",
       "      <th>2010-01-01 01:00:14.943</th>\n",
       "      <td>56493.398438</td>\n",
       "    </tr>\n",
       "    <tr>\n",
       "      <th>2010-01-01 01:00:19.082</th>\n",
       "      <td>56492.300781</td>\n",
       "    </tr>\n",
       "    <tr>\n",
       "      <th>...</th>\n",
       "      <td>...</td>\n",
       "    </tr>\n",
       "    <tr>\n",
       "      <th>2012-01-01 00:59:42.771</th>\n",
       "      <td>56948.699219</td>\n",
       "    </tr>\n",
       "    <tr>\n",
       "      <th>2012-01-01 00:59:46.907</th>\n",
       "      <td>56950.300781</td>\n",
       "    </tr>\n",
       "    <tr>\n",
       "      <th>2012-01-01 00:59:51.043</th>\n",
       "      <td>56951.800781</td>\n",
       "    </tr>\n",
       "    <tr>\n",
       "      <th>2012-01-01 00:59:55.179</th>\n",
       "      <td>56953.398438</td>\n",
       "    </tr>\n",
       "    <tr>\n",
       "      <th>2012-01-01 00:59:59.315</th>\n",
       "      <td>56954.898438</td>\n",
       "    </tr>\n",
       "  </tbody>\n",
       "</table>\n",
       "<p>14395363 rows × 1 columns</p>\n",
       "</div>"
      ],
      "text/plain": [
       "                                    x\n",
       "2010-01-01 01:00:02.525  56496.699219\n",
       "2010-01-01 01:00:06.664  56495.601562\n",
       "2010-01-01 01:00:10.803  56494.500000\n",
       "2010-01-01 01:00:14.943  56493.398438\n",
       "2010-01-01 01:00:19.082  56492.300781\n",
       "...                               ...\n",
       "2012-01-01 00:59:42.771  56948.699219\n",
       "2012-01-01 00:59:46.907  56950.300781\n",
       "2012-01-01 00:59:51.043  56951.800781\n",
       "2012-01-01 00:59:55.179  56953.398438\n",
       "2012-01-01 00:59:59.315  56954.898438\n",
       "\n",
       "[14395363 rows x 1 columns]"
      ]
     },
     "execution_count": 24,
     "metadata": {},
     "output_type": "execute_result"
    }
   ],
   "source": [
    "x2 = position_gse2.get(['x'])\n",
    "nx2 = x2[:13297602]\n",
    "x2"
   ]
  },
  {
   "cell_type": "code",
   "execution_count": 25,
   "metadata": {},
   "outputs": [
    {
     "data": {
      "text/html": [
       "<div>\n",
       "<style scoped>\n",
       "    .dataframe tbody tr th:only-of-type {\n",
       "        vertical-align: middle;\n",
       "    }\n",
       "\n",
       "    .dataframe tbody tr th {\n",
       "        vertical-align: top;\n",
       "    }\n",
       "\n",
       "    .dataframe thead th {\n",
       "        text-align: right;\n",
       "    }\n",
       "</style>\n",
       "<table border=\"1\" class=\"dataframe\">\n",
       "  <thead>\n",
       "    <tr style=\"text-align: right;\">\n",
       "      <th></th>\n",
       "      <th>x</th>\n",
       "    </tr>\n",
       "  </thead>\n",
       "  <tbody>\n",
       "    <tr>\n",
       "      <th>2010-01-01 01:00:01.045</th>\n",
       "      <td>58074.601562</td>\n",
       "    </tr>\n",
       "    <tr>\n",
       "      <th>2010-01-01 01:00:05.215</th>\n",
       "      <td>58073.800781</td>\n",
       "    </tr>\n",
       "    <tr>\n",
       "      <th>2010-01-01 01:00:09.386</th>\n",
       "      <td>58072.898438</td>\n",
       "    </tr>\n",
       "    <tr>\n",
       "      <th>2010-01-01 01:00:13.556</th>\n",
       "      <td>58072.101562</td>\n",
       "    </tr>\n",
       "    <tr>\n",
       "      <th>2010-01-01 01:00:17.726</th>\n",
       "      <td>58071.300781</td>\n",
       "    </tr>\n",
       "    <tr>\n",
       "      <th>...</th>\n",
       "      <td>...</td>\n",
       "    </tr>\n",
       "    <tr>\n",
       "      <th>2012-01-01 00:59:39.450</th>\n",
       "      <td>59675.898438</td>\n",
       "    </tr>\n",
       "    <tr>\n",
       "      <th>2012-01-01 00:59:43.634</th>\n",
       "      <td>59677.601562</td>\n",
       "    </tr>\n",
       "    <tr>\n",
       "      <th>2012-01-01 00:59:47.818</th>\n",
       "      <td>59679.398438</td>\n",
       "    </tr>\n",
       "    <tr>\n",
       "      <th>2012-01-01 00:59:52.002</th>\n",
       "      <td>59681.101562</td>\n",
       "    </tr>\n",
       "    <tr>\n",
       "      <th>2012-01-01 00:59:56.187</th>\n",
       "      <td>59682.800781</td>\n",
       "    </tr>\n",
       "  </tbody>\n",
       "</table>\n",
       "<p>13359825 rows × 1 columns</p>\n",
       "</div>"
      ],
      "text/plain": [
       "                                    x\n",
       "2010-01-01 01:00:01.045  58074.601562\n",
       "2010-01-01 01:00:05.215  58073.800781\n",
       "2010-01-01 01:00:09.386  58072.898438\n",
       "2010-01-01 01:00:13.556  58072.101562\n",
       "2010-01-01 01:00:17.726  58071.300781\n",
       "...                               ...\n",
       "2012-01-01 00:59:39.450  59675.898438\n",
       "2012-01-01 00:59:43.634  59677.601562\n",
       "2012-01-01 00:59:47.818  59679.398438\n",
       "2012-01-01 00:59:52.002  59681.101562\n",
       "2012-01-01 00:59:56.187  59682.800781\n",
       "\n",
       "[13359825 rows x 1 columns]"
      ]
     },
     "execution_count": 25,
     "metadata": {},
     "output_type": "execute_result"
    }
   ],
   "source": [
    "x3 = position_gse3.get(['x'])\n",
    "nx3 = x3[:13297602]\n",
    "x3"
   ]
  },
  {
   "cell_type": "code",
   "execution_count": 26,
   "metadata": {},
   "outputs": [
    {
     "data": {
      "text/html": [
       "<div>\n",
       "<style scoped>\n",
       "    .dataframe tbody tr th:only-of-type {\n",
       "        vertical-align: middle;\n",
       "    }\n",
       "\n",
       "    .dataframe tbody tr th {\n",
       "        vertical-align: top;\n",
       "    }\n",
       "\n",
       "    .dataframe thead th {\n",
       "        text-align: right;\n",
       "    }\n",
       "</style>\n",
       "<table border=\"1\" class=\"dataframe\">\n",
       "  <thead>\n",
       "    <tr style=\"text-align: right;\">\n",
       "      <th></th>\n",
       "      <th>x</th>\n",
       "    </tr>\n",
       "  </thead>\n",
       "  <tbody>\n",
       "    <tr>\n",
       "      <th>2010-01-01 01:00:03.664</th>\n",
       "      <td>58090.898438</td>\n",
       "    </tr>\n",
       "    <tr>\n",
       "      <th>2010-01-01 01:00:07.775</th>\n",
       "      <td>58090.000000</td>\n",
       "    </tr>\n",
       "    <tr>\n",
       "      <th>2010-01-01 01:00:11.886</th>\n",
       "      <td>58089.199219</td>\n",
       "    </tr>\n",
       "    <tr>\n",
       "      <th>2010-01-01 01:00:15.998</th>\n",
       "      <td>58088.300781</td>\n",
       "    </tr>\n",
       "    <tr>\n",
       "      <th>2010-01-01 01:00:20.109</th>\n",
       "      <td>58087.500000</td>\n",
       "    </tr>\n",
       "    <tr>\n",
       "      <th>...</th>\n",
       "      <td>...</td>\n",
       "    </tr>\n",
       "    <tr>\n",
       "      <th>2012-01-01 00:59:42.245</th>\n",
       "      <td>59668.398438</td>\n",
       "    </tr>\n",
       "    <tr>\n",
       "      <th>2012-01-01 00:59:46.363</th>\n",
       "      <td>59670.101562</td>\n",
       "    </tr>\n",
       "    <tr>\n",
       "      <th>2012-01-01 00:59:50.482</th>\n",
       "      <td>59671.800781</td>\n",
       "    </tr>\n",
       "    <tr>\n",
       "      <th>2012-01-01 00:59:54.600</th>\n",
       "      <td>59673.500000</td>\n",
       "    </tr>\n",
       "    <tr>\n",
       "      <th>2012-01-01 00:59:58.718</th>\n",
       "      <td>59675.199219</td>\n",
       "    </tr>\n",
       "  </tbody>\n",
       "</table>\n",
       "<p>13553363 rows × 1 columns</p>\n",
       "</div>"
      ],
      "text/plain": [
       "                                    x\n",
       "2010-01-01 01:00:03.664  58090.898438\n",
       "2010-01-01 01:00:07.775  58090.000000\n",
       "2010-01-01 01:00:11.886  58089.199219\n",
       "2010-01-01 01:00:15.998  58088.300781\n",
       "2010-01-01 01:00:20.109  58087.500000\n",
       "...                               ...\n",
       "2012-01-01 00:59:42.245  59668.398438\n",
       "2012-01-01 00:59:46.363  59670.101562\n",
       "2012-01-01 00:59:50.482  59671.800781\n",
       "2012-01-01 00:59:54.600  59673.500000\n",
       "2012-01-01 00:59:58.718  59675.199219\n",
       "\n",
       "[13553363 rows x 1 columns]"
      ]
     },
     "execution_count": 26,
     "metadata": {},
     "output_type": "execute_result"
    }
   ],
   "source": [
    "x4 = position_gse4.get(['x'])\n",
    "nx4 = x4[:13297602]\n",
    "x4"
   ]
  },
  {
   "cell_type": "code",
   "execution_count": 27,
   "metadata": {},
   "outputs": [
    {
     "data": {
      "text/html": [
       "<div>\n",
       "<style scoped>\n",
       "    .dataframe tbody tr th:only-of-type {\n",
       "        vertical-align: middle;\n",
       "    }\n",
       "\n",
       "    .dataframe tbody tr th {\n",
       "        vertical-align: top;\n",
       "    }\n",
       "\n",
       "    .dataframe thead th {\n",
       "        text-align: right;\n",
       "    }\n",
       "</style>\n",
       "<table border=\"1\" class=\"dataframe\">\n",
       "  <thead>\n",
       "    <tr style=\"text-align: right;\">\n",
       "      <th></th>\n",
       "      <th>y</th>\n",
       "    </tr>\n",
       "  </thead>\n",
       "  <tbody>\n",
       "    <tr>\n",
       "      <th>2010-01-01 01:00:02.876</th>\n",
       "      <td>62513.601562</td>\n",
       "    </tr>\n",
       "    <tr>\n",
       "      <th>2010-01-01 01:00:07.075</th>\n",
       "      <td>62507.800781</td>\n",
       "    </tr>\n",
       "    <tr>\n",
       "      <th>2010-01-01 01:00:11.273</th>\n",
       "      <td>62502.000000</td>\n",
       "    </tr>\n",
       "    <tr>\n",
       "      <th>2010-01-01 01:00:15.472</th>\n",
       "      <td>62496.101562</td>\n",
       "    </tr>\n",
       "    <tr>\n",
       "      <th>2010-01-01 01:00:19.670</th>\n",
       "      <td>62490.300781</td>\n",
       "    </tr>\n",
       "    <tr>\n",
       "      <th>...</th>\n",
       "      <td>...</td>\n",
       "    </tr>\n",
       "    <tr>\n",
       "      <th>2012-01-01 00:59:39.543</th>\n",
       "      <td>95939.703125</td>\n",
       "    </tr>\n",
       "    <tr>\n",
       "      <th>2012-01-01 00:59:43.760</th>\n",
       "      <td>95937.898438</td>\n",
       "    </tr>\n",
       "    <tr>\n",
       "      <th>2012-01-01 00:59:47.978</th>\n",
       "      <td>95936.101562</td>\n",
       "    </tr>\n",
       "    <tr>\n",
       "      <th>2012-01-01 00:59:52.195</th>\n",
       "      <td>95934.296875</td>\n",
       "    </tr>\n",
       "    <tr>\n",
       "      <th>2012-01-01 00:59:56.413</th>\n",
       "      <td>95932.500000</td>\n",
       "    </tr>\n",
       "  </tbody>\n",
       "</table>\n",
       "<p>13297602 rows × 1 columns</p>\n",
       "</div>"
      ],
      "text/plain": [
       "                                    y\n",
       "2010-01-01 01:00:02.876  62513.601562\n",
       "2010-01-01 01:00:07.075  62507.800781\n",
       "2010-01-01 01:00:11.273  62502.000000\n",
       "2010-01-01 01:00:15.472  62496.101562\n",
       "2010-01-01 01:00:19.670  62490.300781\n",
       "...                               ...\n",
       "2012-01-01 00:59:39.543  95939.703125\n",
       "2012-01-01 00:59:43.760  95937.898438\n",
       "2012-01-01 00:59:47.978  95936.101562\n",
       "2012-01-01 00:59:52.195  95934.296875\n",
       "2012-01-01 00:59:56.413  95932.500000\n",
       "\n",
       "[13297602 rows x 1 columns]"
      ]
     },
     "execution_count": 27,
     "metadata": {},
     "output_type": "execute_result"
    }
   ],
   "source": [
    "y1 = position_gse1.get(['y'])\n",
    "y1"
   ]
  },
  {
   "cell_type": "code",
   "execution_count": 28,
   "metadata": {},
   "outputs": [
    {
     "data": {
      "text/html": [
       "<div>\n",
       "<style scoped>\n",
       "    .dataframe tbody tr th:only-of-type {\n",
       "        vertical-align: middle;\n",
       "    }\n",
       "\n",
       "    .dataframe tbody tr th {\n",
       "        vertical-align: top;\n",
       "    }\n",
       "\n",
       "    .dataframe thead th {\n",
       "        text-align: right;\n",
       "    }\n",
       "</style>\n",
       "<table border=\"1\" class=\"dataframe\">\n",
       "  <thead>\n",
       "    <tr style=\"text-align: right;\">\n",
       "      <th></th>\n",
       "      <th>y</th>\n",
       "    </tr>\n",
       "  </thead>\n",
       "  <tbody>\n",
       "    <tr>\n",
       "      <th>2010-01-01 01:00:02.525</th>\n",
       "      <td>64543.199219</td>\n",
       "    </tr>\n",
       "    <tr>\n",
       "      <th>2010-01-01 01:00:06.664</th>\n",
       "      <td>64537.398438</td>\n",
       "    </tr>\n",
       "    <tr>\n",
       "      <th>2010-01-01 01:00:10.803</th>\n",
       "      <td>64531.699219</td>\n",
       "    </tr>\n",
       "    <tr>\n",
       "      <th>2010-01-01 01:00:14.943</th>\n",
       "      <td>64525.898438</td>\n",
       "    </tr>\n",
       "    <tr>\n",
       "      <th>2010-01-01 01:00:19.082</th>\n",
       "      <td>64520.199219</td>\n",
       "    </tr>\n",
       "    <tr>\n",
       "      <th>...</th>\n",
       "      <td>...</td>\n",
       "    </tr>\n",
       "    <tr>\n",
       "      <th>2012-01-01 00:59:42.771</th>\n",
       "      <td>96779.898438</td>\n",
       "    </tr>\n",
       "    <tr>\n",
       "      <th>2012-01-01 00:59:46.907</th>\n",
       "      <td>96778.203125</td>\n",
       "    </tr>\n",
       "    <tr>\n",
       "      <th>2012-01-01 00:59:51.043</th>\n",
       "      <td>96776.601562</td>\n",
       "    </tr>\n",
       "    <tr>\n",
       "      <th>2012-01-01 00:59:55.179</th>\n",
       "      <td>96775.000000</td>\n",
       "    </tr>\n",
       "    <tr>\n",
       "      <th>2012-01-01 00:59:59.315</th>\n",
       "      <td>96773.296875</td>\n",
       "    </tr>\n",
       "  </tbody>\n",
       "</table>\n",
       "<p>14395363 rows × 1 columns</p>\n",
       "</div>"
      ],
      "text/plain": [
       "                                    y\n",
       "2010-01-01 01:00:02.525  64543.199219\n",
       "2010-01-01 01:00:06.664  64537.398438\n",
       "2010-01-01 01:00:10.803  64531.699219\n",
       "2010-01-01 01:00:14.943  64525.898438\n",
       "2010-01-01 01:00:19.082  64520.199219\n",
       "...                               ...\n",
       "2012-01-01 00:59:42.771  96779.898438\n",
       "2012-01-01 00:59:46.907  96778.203125\n",
       "2012-01-01 00:59:51.043  96776.601562\n",
       "2012-01-01 00:59:55.179  96775.000000\n",
       "2012-01-01 00:59:59.315  96773.296875\n",
       "\n",
       "[14395363 rows x 1 columns]"
      ]
     },
     "execution_count": 28,
     "metadata": {},
     "output_type": "execute_result"
    }
   ],
   "source": [
    "y2 = position_gse2.get(['y'])\n",
    "ny2 = y2[:13297602]\n",
    "y2"
   ]
  },
  {
   "cell_type": "code",
   "execution_count": 29,
   "metadata": {},
   "outputs": [
    {
     "data": {
      "text/html": [
       "<div>\n",
       "<style scoped>\n",
       "    .dataframe tbody tr th:only-of-type {\n",
       "        vertical-align: middle;\n",
       "    }\n",
       "\n",
       "    .dataframe tbody tr th {\n",
       "        vertical-align: top;\n",
       "    }\n",
       "\n",
       "    .dataframe thead th {\n",
       "        text-align: right;\n",
       "    }\n",
       "</style>\n",
       "<table border=\"1\" class=\"dataframe\">\n",
       "  <thead>\n",
       "    <tr style=\"text-align: right;\">\n",
       "      <th></th>\n",
       "      <th>y</th>\n",
       "    </tr>\n",
       "  </thead>\n",
       "  <tbody>\n",
       "    <tr>\n",
       "      <th>2010-01-01 01:00:01.045</th>\n",
       "      <td>61465.398438</td>\n",
       "    </tr>\n",
       "    <tr>\n",
       "      <th>2010-01-01 01:00:05.215</th>\n",
       "      <td>61459.800781</td>\n",
       "    </tr>\n",
       "    <tr>\n",
       "      <th>2010-01-01 01:00:09.386</th>\n",
       "      <td>61454.199219</td>\n",
       "    </tr>\n",
       "    <tr>\n",
       "      <th>2010-01-01 01:00:13.556</th>\n",
       "      <td>61448.601562</td>\n",
       "    </tr>\n",
       "    <tr>\n",
       "      <th>2010-01-01 01:00:17.726</th>\n",
       "      <td>61443.000000</td>\n",
       "    </tr>\n",
       "    <tr>\n",
       "      <th>...</th>\n",
       "      <td>...</td>\n",
       "    </tr>\n",
       "    <tr>\n",
       "      <th>2012-01-01 00:59:39.450</th>\n",
       "      <td>93492.500000</td>\n",
       "    </tr>\n",
       "    <tr>\n",
       "      <th>2012-01-01 00:59:43.634</th>\n",
       "      <td>93490.898438</td>\n",
       "    </tr>\n",
       "    <tr>\n",
       "      <th>2012-01-01 00:59:47.818</th>\n",
       "      <td>93489.203125</td>\n",
       "    </tr>\n",
       "    <tr>\n",
       "      <th>2012-01-01 00:59:52.002</th>\n",
       "      <td>93487.601562</td>\n",
       "    </tr>\n",
       "    <tr>\n",
       "      <th>2012-01-01 00:59:56.187</th>\n",
       "      <td>93485.898438</td>\n",
       "    </tr>\n",
       "  </tbody>\n",
       "</table>\n",
       "<p>13359825 rows × 1 columns</p>\n",
       "</div>"
      ],
      "text/plain": [
       "                                    y\n",
       "2010-01-01 01:00:01.045  61465.398438\n",
       "2010-01-01 01:00:05.215  61459.800781\n",
       "2010-01-01 01:00:09.386  61454.199219\n",
       "2010-01-01 01:00:13.556  61448.601562\n",
       "2010-01-01 01:00:17.726  61443.000000\n",
       "...                               ...\n",
       "2012-01-01 00:59:39.450  93492.500000\n",
       "2012-01-01 00:59:43.634  93490.898438\n",
       "2012-01-01 00:59:47.818  93489.203125\n",
       "2012-01-01 00:59:52.002  93487.601562\n",
       "2012-01-01 00:59:56.187  93485.898438\n",
       "\n",
       "[13359825 rows x 1 columns]"
      ]
     },
     "execution_count": 29,
     "metadata": {},
     "output_type": "execute_result"
    }
   ],
   "source": [
    "y3 = position_gse3.get(['y'])\n",
    "ny3 = y3[:13297602]\n",
    "y3"
   ]
  },
  {
   "cell_type": "code",
   "execution_count": 30,
   "metadata": {},
   "outputs": [
    {
     "data": {
      "text/html": [
       "<div>\n",
       "<style scoped>\n",
       "    .dataframe tbody tr th:only-of-type {\n",
       "        vertical-align: middle;\n",
       "    }\n",
       "\n",
       "    .dataframe tbody tr th {\n",
       "        vertical-align: top;\n",
       "    }\n",
       "\n",
       "    .dataframe thead th {\n",
       "        text-align: right;\n",
       "    }\n",
       "</style>\n",
       "<table border=\"1\" class=\"dataframe\">\n",
       "  <thead>\n",
       "    <tr style=\"text-align: right;\">\n",
       "      <th></th>\n",
       "      <th>y</th>\n",
       "    </tr>\n",
       "  </thead>\n",
       "  <tbody>\n",
       "    <tr>\n",
       "      <th>2010-01-01 01:00:03.664</th>\n",
       "      <td>61086.199219</td>\n",
       "    </tr>\n",
       "    <tr>\n",
       "      <th>2010-01-01 01:00:07.775</th>\n",
       "      <td>61080.601562</td>\n",
       "    </tr>\n",
       "    <tr>\n",
       "      <th>2010-01-01 01:00:11.886</th>\n",
       "      <td>61075.101562</td>\n",
       "    </tr>\n",
       "    <tr>\n",
       "      <th>2010-01-01 01:00:15.998</th>\n",
       "      <td>61069.601562</td>\n",
       "    </tr>\n",
       "    <tr>\n",
       "      <th>2010-01-01 01:00:20.109</th>\n",
       "      <td>61064.000000</td>\n",
       "    </tr>\n",
       "    <tr>\n",
       "      <th>...</th>\n",
       "      <td>...</td>\n",
       "    </tr>\n",
       "    <tr>\n",
       "      <th>2012-01-01 00:59:42.245</th>\n",
       "      <td>93462.398438</td>\n",
       "    </tr>\n",
       "    <tr>\n",
       "      <th>2012-01-01 00:59:46.363</th>\n",
       "      <td>93460.796875</td>\n",
       "    </tr>\n",
       "    <tr>\n",
       "      <th>2012-01-01 00:59:50.482</th>\n",
       "      <td>93459.203125</td>\n",
       "    </tr>\n",
       "    <tr>\n",
       "      <th>2012-01-01 00:59:54.600</th>\n",
       "      <td>93457.601562</td>\n",
       "    </tr>\n",
       "    <tr>\n",
       "      <th>2012-01-01 00:59:58.718</th>\n",
       "      <td>93455.898438</td>\n",
       "    </tr>\n",
       "  </tbody>\n",
       "</table>\n",
       "<p>13553363 rows × 1 columns</p>\n",
       "</div>"
      ],
      "text/plain": [
       "                                    y\n",
       "2010-01-01 01:00:03.664  61086.199219\n",
       "2010-01-01 01:00:07.775  61080.601562\n",
       "2010-01-01 01:00:11.886  61075.101562\n",
       "2010-01-01 01:00:15.998  61069.601562\n",
       "2010-01-01 01:00:20.109  61064.000000\n",
       "...                               ...\n",
       "2012-01-01 00:59:42.245  93462.398438\n",
       "2012-01-01 00:59:46.363  93460.796875\n",
       "2012-01-01 00:59:50.482  93459.203125\n",
       "2012-01-01 00:59:54.600  93457.601562\n",
       "2012-01-01 00:59:58.718  93455.898438\n",
       "\n",
       "[13553363 rows x 1 columns]"
      ]
     },
     "execution_count": 30,
     "metadata": {},
     "output_type": "execute_result"
    }
   ],
   "source": [
    "y4 = position_gse4.get(['y'])\n",
    "ny4 = y4[:13297602]\n",
    "y4"
   ]
  },
  {
   "cell_type": "code",
   "execution_count": 31,
   "metadata": {},
   "outputs": [
    {
     "data": {
      "text/html": [
       "<div>\n",
       "<style scoped>\n",
       "    .dataframe tbody tr th:only-of-type {\n",
       "        vertical-align: middle;\n",
       "    }\n",
       "\n",
       "    .dataframe tbody tr th {\n",
       "        vertical-align: top;\n",
       "    }\n",
       "\n",
       "    .dataframe thead th {\n",
       "        text-align: right;\n",
       "    }\n",
       "</style>\n",
       "<table border=\"1\" class=\"dataframe\">\n",
       "  <thead>\n",
       "    <tr style=\"text-align: right;\">\n",
       "      <th></th>\n",
       "      <th>z</th>\n",
       "    </tr>\n",
       "  </thead>\n",
       "  <tbody>\n",
       "    <tr>\n",
       "      <th>2010-01-01 01:00:02.876</th>\n",
       "      <td>-59393.000000</td>\n",
       "    </tr>\n",
       "    <tr>\n",
       "      <th>2010-01-01 01:00:07.075</th>\n",
       "      <td>-59390.699219</td>\n",
       "    </tr>\n",
       "    <tr>\n",
       "      <th>2010-01-01 01:00:11.273</th>\n",
       "      <td>-59388.398438</td>\n",
       "    </tr>\n",
       "    <tr>\n",
       "      <th>2010-01-01 01:00:15.472</th>\n",
       "      <td>-59386.101562</td>\n",
       "    </tr>\n",
       "    <tr>\n",
       "      <th>2010-01-01 01:00:19.670</th>\n",
       "      <td>-59383.800781</td>\n",
       "    </tr>\n",
       "    <tr>\n",
       "      <th>...</th>\n",
       "      <td>...</td>\n",
       "    </tr>\n",
       "    <tr>\n",
       "      <th>2012-01-01 00:59:39.543</th>\n",
       "      <td>-68664.796875</td>\n",
       "    </tr>\n",
       "    <tr>\n",
       "      <th>2012-01-01 00:59:43.760</th>\n",
       "      <td>-68662.796875</td>\n",
       "    </tr>\n",
       "    <tr>\n",
       "      <th>2012-01-01 00:59:47.978</th>\n",
       "      <td>-68660.703125</td>\n",
       "    </tr>\n",
       "    <tr>\n",
       "      <th>2012-01-01 00:59:52.195</th>\n",
       "      <td>-68658.703125</td>\n",
       "    </tr>\n",
       "    <tr>\n",
       "      <th>2012-01-01 00:59:56.413</th>\n",
       "      <td>-68656.601562</td>\n",
       "    </tr>\n",
       "  </tbody>\n",
       "</table>\n",
       "<p>13297602 rows × 1 columns</p>\n",
       "</div>"
      ],
      "text/plain": [
       "                                    z\n",
       "2010-01-01 01:00:02.876 -59393.000000\n",
       "2010-01-01 01:00:07.075 -59390.699219\n",
       "2010-01-01 01:00:11.273 -59388.398438\n",
       "2010-01-01 01:00:15.472 -59386.101562\n",
       "2010-01-01 01:00:19.670 -59383.800781\n",
       "...                               ...\n",
       "2012-01-01 00:59:39.543 -68664.796875\n",
       "2012-01-01 00:59:43.760 -68662.796875\n",
       "2012-01-01 00:59:47.978 -68660.703125\n",
       "2012-01-01 00:59:52.195 -68658.703125\n",
       "2012-01-01 00:59:56.413 -68656.601562\n",
       "\n",
       "[13297602 rows x 1 columns]"
      ]
     },
     "execution_count": 31,
     "metadata": {},
     "output_type": "execute_result"
    }
   ],
   "source": [
    "z1 = position_gse1.get(['z'])\n",
    "z1"
   ]
  },
  {
   "cell_type": "code",
   "execution_count": 32,
   "metadata": {},
   "outputs": [
    {
     "data": {
      "text/html": [
       "<div>\n",
       "<style scoped>\n",
       "    .dataframe tbody tr th:only-of-type {\n",
       "        vertical-align: middle;\n",
       "    }\n",
       "\n",
       "    .dataframe tbody tr th {\n",
       "        vertical-align: top;\n",
       "    }\n",
       "\n",
       "    .dataframe thead th {\n",
       "        text-align: right;\n",
       "    }\n",
       "</style>\n",
       "<table border=\"1\" class=\"dataframe\">\n",
       "  <thead>\n",
       "    <tr style=\"text-align: right;\">\n",
       "      <th></th>\n",
       "      <th>z</th>\n",
       "    </tr>\n",
       "  </thead>\n",
       "  <tbody>\n",
       "    <tr>\n",
       "      <th>2010-01-01 01:00:02.525</th>\n",
       "      <td>-59953.199219</td>\n",
       "    </tr>\n",
       "    <tr>\n",
       "      <th>2010-01-01 01:00:06.664</th>\n",
       "      <td>-59951.500000</td>\n",
       "    </tr>\n",
       "    <tr>\n",
       "      <th>2010-01-01 01:00:10.803</th>\n",
       "      <td>-59949.800781</td>\n",
       "    </tr>\n",
       "    <tr>\n",
       "      <th>2010-01-01 01:00:14.943</th>\n",
       "      <td>-59948.101562</td>\n",
       "    </tr>\n",
       "    <tr>\n",
       "      <th>2010-01-01 01:00:19.082</th>\n",
       "      <td>-59946.398438</td>\n",
       "    </tr>\n",
       "    <tr>\n",
       "      <th>...</th>\n",
       "      <td>...</td>\n",
       "    </tr>\n",
       "    <tr>\n",
       "      <th>2012-01-01 00:59:42.771</th>\n",
       "      <td>-74504.203125</td>\n",
       "    </tr>\n",
       "    <tr>\n",
       "      <th>2012-01-01 00:59:46.907</th>\n",
       "      <td>-74502.500000</td>\n",
       "    </tr>\n",
       "    <tr>\n",
       "      <th>2012-01-01 00:59:51.043</th>\n",
       "      <td>-74500.898438</td>\n",
       "    </tr>\n",
       "    <tr>\n",
       "      <th>2012-01-01 00:59:55.179</th>\n",
       "      <td>-74499.203125</td>\n",
       "    </tr>\n",
       "    <tr>\n",
       "      <th>2012-01-01 00:59:59.315</th>\n",
       "      <td>-74497.500000</td>\n",
       "    </tr>\n",
       "  </tbody>\n",
       "</table>\n",
       "<p>14395363 rows × 1 columns</p>\n",
       "</div>"
      ],
      "text/plain": [
       "                                    z\n",
       "2010-01-01 01:00:02.525 -59953.199219\n",
       "2010-01-01 01:00:06.664 -59951.500000\n",
       "2010-01-01 01:00:10.803 -59949.800781\n",
       "2010-01-01 01:00:14.943 -59948.101562\n",
       "2010-01-01 01:00:19.082 -59946.398438\n",
       "...                               ...\n",
       "2012-01-01 00:59:42.771 -74504.203125\n",
       "2012-01-01 00:59:46.907 -74502.500000\n",
       "2012-01-01 00:59:51.043 -74500.898438\n",
       "2012-01-01 00:59:55.179 -74499.203125\n",
       "2012-01-01 00:59:59.315 -74497.500000\n",
       "\n",
       "[14395363 rows x 1 columns]"
      ]
     },
     "execution_count": 32,
     "metadata": {},
     "output_type": "execute_result"
    }
   ],
   "source": [
    "z2 = position_gse2.get(['z'])\n",
    "nz2 = z2[:13297602]\n",
    "z2"
   ]
  },
  {
   "cell_type": "code",
   "execution_count": 33,
   "metadata": {},
   "outputs": [
    {
     "data": {
      "text/html": [
       "<div>\n",
       "<style scoped>\n",
       "    .dataframe tbody tr th:only-of-type {\n",
       "        vertical-align: middle;\n",
       "    }\n",
       "\n",
       "    .dataframe tbody tr th {\n",
       "        vertical-align: top;\n",
       "    }\n",
       "\n",
       "    .dataframe thead th {\n",
       "        text-align: right;\n",
       "    }\n",
       "</style>\n",
       "<table border=\"1\" class=\"dataframe\">\n",
       "  <thead>\n",
       "    <tr style=\"text-align: right;\">\n",
       "      <th></th>\n",
       "      <th>z</th>\n",
       "    </tr>\n",
       "  </thead>\n",
       "  <tbody>\n",
       "    <tr>\n",
       "      <th>2010-01-01 01:00:01.045</th>\n",
       "      <td>-61952.300781</td>\n",
       "    </tr>\n",
       "    <tr>\n",
       "      <th>2010-01-01 01:00:05.215</th>\n",
       "      <td>-61950.000000</td>\n",
       "    </tr>\n",
       "    <tr>\n",
       "      <th>2010-01-01 01:00:09.386</th>\n",
       "      <td>-61947.601562</td>\n",
       "    </tr>\n",
       "    <tr>\n",
       "      <th>2010-01-01 01:00:13.556</th>\n",
       "      <td>-61945.300781</td>\n",
       "    </tr>\n",
       "    <tr>\n",
       "      <th>2010-01-01 01:00:17.726</th>\n",
       "      <td>-61943.000000</td>\n",
       "    </tr>\n",
       "    <tr>\n",
       "      <th>...</th>\n",
       "      <td>...</td>\n",
       "    </tr>\n",
       "    <tr>\n",
       "      <th>2012-01-01 00:59:39.450</th>\n",
       "      <td>-71765.601562</td>\n",
       "    </tr>\n",
       "    <tr>\n",
       "      <th>2012-01-01 00:59:43.634</th>\n",
       "      <td>-71763.500000</td>\n",
       "    </tr>\n",
       "    <tr>\n",
       "      <th>2012-01-01 00:59:47.818</th>\n",
       "      <td>-71761.398438</td>\n",
       "    </tr>\n",
       "    <tr>\n",
       "      <th>2012-01-01 00:59:52.002</th>\n",
       "      <td>-71759.296875</td>\n",
       "    </tr>\n",
       "    <tr>\n",
       "      <th>2012-01-01 00:59:56.187</th>\n",
       "      <td>-71757.101562</td>\n",
       "    </tr>\n",
       "  </tbody>\n",
       "</table>\n",
       "<p>13359825 rows × 1 columns</p>\n",
       "</div>"
      ],
      "text/plain": [
       "                                    z\n",
       "2010-01-01 01:00:01.045 -61952.300781\n",
       "2010-01-01 01:00:05.215 -61950.000000\n",
       "2010-01-01 01:00:09.386 -61947.601562\n",
       "2010-01-01 01:00:13.556 -61945.300781\n",
       "2010-01-01 01:00:17.726 -61943.000000\n",
       "...                               ...\n",
       "2012-01-01 00:59:39.450 -71765.601562\n",
       "2012-01-01 00:59:43.634 -71763.500000\n",
       "2012-01-01 00:59:47.818 -71761.398438\n",
       "2012-01-01 00:59:52.002 -71759.296875\n",
       "2012-01-01 00:59:56.187 -71757.101562\n",
       "\n",
       "[13359825 rows x 1 columns]"
      ]
     },
     "execution_count": 33,
     "metadata": {},
     "output_type": "execute_result"
    }
   ],
   "source": [
    "z3 = position_gse3.get(['z'])\n",
    "nz3 = z3[:13297602]\n",
    "z3"
   ]
  },
  {
   "cell_type": "code",
   "execution_count": 34,
   "metadata": {},
   "outputs": [
    {
     "data": {
      "text/html": [
       "<div>\n",
       "<style scoped>\n",
       "    .dataframe tbody tr th:only-of-type {\n",
       "        vertical-align: middle;\n",
       "    }\n",
       "\n",
       "    .dataframe tbody tr th {\n",
       "        vertical-align: top;\n",
       "    }\n",
       "\n",
       "    .dataframe thead th {\n",
       "        text-align: right;\n",
       "    }\n",
       "</style>\n",
       "<table border=\"1\" class=\"dataframe\">\n",
       "  <thead>\n",
       "    <tr style=\"text-align: right;\">\n",
       "      <th></th>\n",
       "      <th>z</th>\n",
       "    </tr>\n",
       "  </thead>\n",
       "  <tbody>\n",
       "    <tr>\n",
       "      <th>2010-01-01 01:00:03.664</th>\n",
       "      <td>-61870.500000</td>\n",
       "    </tr>\n",
       "    <tr>\n",
       "      <th>2010-01-01 01:00:07.775</th>\n",
       "      <td>-61868.199219</td>\n",
       "    </tr>\n",
       "    <tr>\n",
       "      <th>2010-01-01 01:00:11.886</th>\n",
       "      <td>-61865.898438</td>\n",
       "    </tr>\n",
       "    <tr>\n",
       "      <th>2010-01-01 01:00:15.998</th>\n",
       "      <td>-61863.601562</td>\n",
       "    </tr>\n",
       "    <tr>\n",
       "      <th>2010-01-01 01:00:20.109</th>\n",
       "      <td>-61861.300781</td>\n",
       "    </tr>\n",
       "    <tr>\n",
       "      <th>...</th>\n",
       "      <td>...</td>\n",
       "    </tr>\n",
       "    <tr>\n",
       "      <th>2012-01-01 00:59:42.245</th>\n",
       "      <td>-71787.500000</td>\n",
       "    </tr>\n",
       "    <tr>\n",
       "      <th>2012-01-01 00:59:46.363</th>\n",
       "      <td>-71785.500000</td>\n",
       "    </tr>\n",
       "    <tr>\n",
       "      <th>2012-01-01 00:59:50.482</th>\n",
       "      <td>-71783.398438</td>\n",
       "    </tr>\n",
       "    <tr>\n",
       "      <th>2012-01-01 00:59:54.600</th>\n",
       "      <td>-71781.296875</td>\n",
       "    </tr>\n",
       "    <tr>\n",
       "      <th>2012-01-01 00:59:58.718</th>\n",
       "      <td>-71779.203125</td>\n",
       "    </tr>\n",
       "  </tbody>\n",
       "</table>\n",
       "<p>13553363 rows × 1 columns</p>\n",
       "</div>"
      ],
      "text/plain": [
       "                                    z\n",
       "2010-01-01 01:00:03.664 -61870.500000\n",
       "2010-01-01 01:00:07.775 -61868.199219\n",
       "2010-01-01 01:00:11.886 -61865.898438\n",
       "2010-01-01 01:00:15.998 -61863.601562\n",
       "2010-01-01 01:00:20.109 -61861.300781\n",
       "...                               ...\n",
       "2012-01-01 00:59:42.245 -71787.500000\n",
       "2012-01-01 00:59:46.363 -71785.500000\n",
       "2012-01-01 00:59:50.482 -71783.398438\n",
       "2012-01-01 00:59:54.600 -71781.296875\n",
       "2012-01-01 00:59:58.718 -71779.203125\n",
       "\n",
       "[13553363 rows x 1 columns]"
      ]
     },
     "execution_count": 34,
     "metadata": {},
     "output_type": "execute_result"
    }
   ],
   "source": [
    "z4 = position_gse4.get(['z'])\n",
    "nz4 = z4[:13297602]\n",
    "z4"
   ]
  },
  {
   "cell_type": "code",
   "execution_count": 35,
   "metadata": {},
   "outputs": [
    {
     "name": "stdout",
     "output_type": "stream",
     "text": [
      "d_c1c2 =                           x   y   z\n",
      "2010-01-01 01:00:02.525 NaN NaN NaN\n",
      "2010-01-01 01:00:02.876 NaN NaN NaN\n",
      "2010-01-01 01:00:06.664 NaN NaN NaN\n",
      "2010-01-01 01:00:07.075 NaN NaN NaN\n",
      "2010-01-01 01:00:10.803 NaN NaN NaN\n",
      "...                      ..  ..  ..\n",
      "2012-01-01 00:59:51.043 NaN NaN NaN\n",
      "2012-01-01 00:59:52.195 NaN NaN NaN\n",
      "2012-01-01 00:59:55.179 NaN NaN NaN\n",
      "2012-01-01 00:59:56.413 NaN NaN NaN\n",
      "2012-01-01 00:59:59.315 NaN NaN NaN\n",
      "\n",
      "[27689828 rows x 3 columns]\n"
     ]
    },
    {
     "data": {
      "text/html": [
       "<div>\n",
       "<style scoped>\n",
       "    .dataframe tbody tr th:only-of-type {\n",
       "        vertical-align: middle;\n",
       "    }\n",
       "\n",
       "    .dataframe tbody tr th {\n",
       "        vertical-align: top;\n",
       "    }\n",
       "\n",
       "    .dataframe thead th {\n",
       "        text-align: right;\n",
       "    }\n",
       "</style>\n",
       "<table border=\"1\" class=\"dataframe\">\n",
       "  <thead>\n",
       "    <tr style=\"text-align: right;\">\n",
       "      <th></th>\n",
       "      <th>x</th>\n",
       "      <th>y</th>\n",
       "      <th>z</th>\n",
       "    </tr>\n",
       "  </thead>\n",
       "  <tbody>\n",
       "    <tr>\n",
       "      <th>2010-01-01 01:00:02.525</th>\n",
       "      <td>NaN</td>\n",
       "      <td>NaN</td>\n",
       "      <td>NaN</td>\n",
       "    </tr>\n",
       "    <tr>\n",
       "      <th>2010-01-01 01:00:02.876</th>\n",
       "      <td>NaN</td>\n",
       "      <td>NaN</td>\n",
       "      <td>NaN</td>\n",
       "    </tr>\n",
       "    <tr>\n",
       "      <th>2010-01-01 01:00:06.664</th>\n",
       "      <td>NaN</td>\n",
       "      <td>NaN</td>\n",
       "      <td>NaN</td>\n",
       "    </tr>\n",
       "    <tr>\n",
       "      <th>2010-01-01 01:00:07.075</th>\n",
       "      <td>NaN</td>\n",
       "      <td>NaN</td>\n",
       "      <td>NaN</td>\n",
       "    </tr>\n",
       "    <tr>\n",
       "      <th>2010-01-01 01:00:10.803</th>\n",
       "      <td>NaN</td>\n",
       "      <td>NaN</td>\n",
       "      <td>NaN</td>\n",
       "    </tr>\n",
       "    <tr>\n",
       "      <th>...</th>\n",
       "      <td>...</td>\n",
       "      <td>...</td>\n",
       "      <td>...</td>\n",
       "    </tr>\n",
       "    <tr>\n",
       "      <th>2012-01-01 00:59:51.043</th>\n",
       "      <td>NaN</td>\n",
       "      <td>NaN</td>\n",
       "      <td>NaN</td>\n",
       "    </tr>\n",
       "    <tr>\n",
       "      <th>2012-01-01 00:59:52.195</th>\n",
       "      <td>NaN</td>\n",
       "      <td>NaN</td>\n",
       "      <td>NaN</td>\n",
       "    </tr>\n",
       "    <tr>\n",
       "      <th>2012-01-01 00:59:55.179</th>\n",
       "      <td>NaN</td>\n",
       "      <td>NaN</td>\n",
       "      <td>NaN</td>\n",
       "    </tr>\n",
       "    <tr>\n",
       "      <th>2012-01-01 00:59:56.413</th>\n",
       "      <td>NaN</td>\n",
       "      <td>NaN</td>\n",
       "      <td>NaN</td>\n",
       "    </tr>\n",
       "    <tr>\n",
       "      <th>2012-01-01 00:59:59.315</th>\n",
       "      <td>NaN</td>\n",
       "      <td>NaN</td>\n",
       "      <td>NaN</td>\n",
       "    </tr>\n",
       "  </tbody>\n",
       "</table>\n",
       "<p>27689828 rows × 3 columns</p>\n",
       "</div>"
      ],
      "text/plain": [
       "                          x   y   z\n",
       "2010-01-01 01:00:02.525 NaN NaN NaN\n",
       "2010-01-01 01:00:02.876 NaN NaN NaN\n",
       "2010-01-01 01:00:06.664 NaN NaN NaN\n",
       "2010-01-01 01:00:07.075 NaN NaN NaN\n",
       "2010-01-01 01:00:10.803 NaN NaN NaN\n",
       "...                      ..  ..  ..\n",
       "2012-01-01 00:59:51.043 NaN NaN NaN\n",
       "2012-01-01 00:59:52.195 NaN NaN NaN\n",
       "2012-01-01 00:59:55.179 NaN NaN NaN\n",
       "2012-01-01 00:59:56.413 NaN NaN NaN\n",
       "2012-01-01 00:59:59.315 NaN NaN NaN\n",
       "\n",
       "[27689828 rows x 3 columns]"
      ]
     },
     "execution_count": 35,
     "metadata": {},
     "output_type": "execute_result"
    }
   ],
   "source": [
    "d_c1c2 = sqrt((x2 - x1)**2 + (y2 - y1)**2 + (z2 -z1)**2)\n",
    "print('d_c1c2 =',d_c1c2)\n",
    "d_c1c2\n"
   ]
  },
  {
   "cell_type": "code",
   "execution_count": 53,
   "metadata": {},
   "outputs": [
    {
     "name": "stdout",
     "output_type": "stream",
     "text": [
      "<class 'pandas.core.frame.DataFrame'>\n"
     ]
    },
    {
     "name": "stdout",
     "output_type": "stream",
     "text": [
      "['2010-01-01T01:00:02.876000000' '2010-01-01T01:00:07.075000000'\n",
      " '2010-01-01T01:00:11.273000000' ... '2012-01-01T00:59:47.978000000'\n",
      " '2012-01-01T00:59:52.195000000' '2012-01-01T00:59:56.413000000']\n"
     ]
    }
   ],
   "source": [
    "import pandas as pd\n",
    "print(type(x1))\n",
    "\n",
    "x1_ = np.array(x1)\n",
    "x2_ = np.array(nx2)\n",
    "x3_ = np.array(nx3)\n",
    "x4_ = np.array(nx4)\n",
    "y1_ = np.array(y1)\n",
    "y2_ = np.array(ny2)\n",
    "y3_ = np.array(ny3)\n",
    "y4_ = np.array(ny4)\n",
    "z1_ = np.array(z1)\n",
    "z2_ = np.array(nz2)\n",
    "z3_ = np.array(nz3)\n",
    "z4_ = np.array(nz4)\n",
    "\n",
    "time = x1.index.values\n",
    "print(time)"
   ]
  },
  {
   "cell_type": "code",
   "execution_count": 54,
   "metadata": {},
   "outputs": [
    {
     "name": "stdout",
     "output_type": "stream",
     "text": [
      "[[5.54134849e+05]\n",
      " [5.54873682e+05]\n",
      " [5.55618831e+05]\n",
      " ...\n",
      " [1.53628085e+10]\n",
      " [1.53630573e+10]\n",
      " [1.53633304e+10]]\n",
      "[[4.11926665e+06]\n",
      " [4.11926665e+06]\n",
      " [4.11967892e+06]\n",
      " ...\n",
      " [1.13885248e+08]\n",
      " [1.13791223e+08]\n",
      " [1.13695237e+08]]\n",
      "[[3.13823165e+05]\n",
      " [3.14497516e+05]\n",
      " [3.15172592e+05]\n",
      " ...\n",
      " [1.49467626e+08]\n",
      " [1.49523984e+08]\n",
      " [1.49585130e+08]]\n"
     ]
    }
   ],
   "source": [
    "square21x = (x2_ - x1_)**2\n",
    "print(square21x) \n",
    "square21y = (y2_ - y1_)**2\n",
    "print(square21y)\n",
    "square21z = (z2_ - z1_)**2\n",
    "print(square21z)\n",
    "add21 = (square21x)+(square21y)+(square21z)\n"
   ]
  },
  {
   "cell_type": "code",
   "execution_count": 55,
   "metadata": {},
   "outputs": [
    {
     "name": "stdout",
     "output_type": "stream",
     "text": [
      "['2010-01-01T01:00:02.876000000' '2010-01-01T01:00:07.075000000'\n",
      " '2010-01-01T01:00:11.273000000' ... '2012-01-01T00:59:47.978000000'\n",
      " '2012-01-01T00:59:52.195000000' '2012-01-01T00:59:56.413000000'] [[  2233.20949763]\n",
      " [  2233.52587733]\n",
      " [  2233.93606462]\n",
      " ...\n",
      " [125004.64522983]\n",
      " [125005.48997995]\n",
      " [125006.44287263]]\n"
     ]
    }
   ],
   "source": [
    "distance21 = sqrt(add21)\n",
    "print(time, distance21)"
   ]
  },
  {
   "cell_type": "code",
   "execution_count": 56,
   "metadata": {},
   "outputs": [
    {
     "name": "stdout",
     "output_type": "stream",
     "text": [
      "[1093.62076137]\n",
      "2011-02-24T08:39:26.116000000\n"
     ]
    }
   ],
   "source": [
    "min(distance21)\n",
    "print(min(distance21))\n",
    "np.argmin(distance21)\n",
    "print(time[np.argmin(distance21)])\n"
   ]
  },
  {
   "cell_type": "code",
   "execution_count": 57,
   "metadata": {},
   "outputs": [
    {
     "name": "stdout",
     "output_type": "stream",
     "text": [
      "[[  694722.25      ]\n",
      " [  694390.19203186]\n",
      " [  693889.        ]\n",
      " ...\n",
      " [10768242.25      ]\n",
      " [10798463.47906494]\n",
      " [10828701.34828186]]\n",
      "[[1.09872979e+06]\n",
      " [1.09830400e+06]\n",
      " [1.09788648e+06]\n",
      " ...\n",
      " [2.31513028e+09]\n",
      " [2.31563027e+09]\n",
      " [2.31613105e+09]]\n",
      "[[6.55002049e+06]\n",
      " [6.55002049e+06]\n",
      " [6.54952064e+06]\n",
      " ...\n",
      " [1.98906209e+09]\n",
      " [1.98937429e+09]\n",
      " [1.98968652e+09]]\n"
     ]
    }
   ],
   "source": [
    "square31x = (x3_ - x1_)**2\n",
    "print(square31x) \n",
    "square31y = (y3_ - y1_)**2\n",
    "print(square31y)\n",
    "square31z = (z3_ - z1_)**2\n",
    "print(square31z)\n",
    "add31 = (square31x)+(square31y)+(square31z)"
   ]
  },
  {
   "cell_type": "code",
   "execution_count": 58,
   "metadata": {},
   "outputs": [
    {
     "name": "stdout",
     "output_type": "stream",
     "text": [
      "[[ 2888.5069725 ]\n",
      " [ 2888.37578596]\n",
      " [ 2888.1302104 ]\n",
      " ...\n",
      " [65688.35983139]\n",
      " [65694.7716593 ]\n",
      " [65701.18930804]]\n"
     ]
    }
   ],
   "source": [
    "distance31 = sqrt(add31)\n",
    "print(distance31)"
   ]
  },
  {
   "cell_type": "code",
   "execution_count": 59,
   "metadata": {},
   "outputs": [
    {
     "name": "stdout",
     "output_type": "stream",
     "text": [
      "[917.77286675]\n",
      "2011-12-18T06:01:50.323000000\n"
     ]
    }
   ],
   "source": [
    "min(distance31)\n",
    "print(min(distance31))\n",
    "np.argmin(distance31)\n",
    "print(time[np.argmin(distance31)])"
   ]
  },
  {
   "cell_type": "code",
   "execution_count": 60,
   "metadata": {},
   "outputs": [
    {
     "name": "stdout",
     "output_type": "stream",
     "text": [
      "[[7.22154729e+05]\n",
      " [7.21650250e+05]\n",
      " [7.21311817e+05]\n",
      " ...\n",
      " [2.81860421e+08]\n",
      " [2.81880621e+08]\n",
      " [2.81897410e+08]]\n",
      "[[2037477.45094299]\n",
      " [2036897.61000061]\n",
      " [2036039.15093994]\n",
      " ...\n",
      " [ 484557.38531494]\n",
      " [ 486222.93188477]\n",
      " [ 487902.25      ]]\n",
      "[[6.13800625e+06]\n",
      " [6.13800625e+06]\n",
      " [6.13800625e+06]\n",
      " ...\n",
      " [1.21187158e+08]\n",
      " [1.21213563e+08]\n",
      " [1.21239970e+08]]\n"
     ]
    }
   ],
   "source": [
    "square41x = (x4_ - x1_)**2\n",
    "print(square41x) \n",
    "square41y = (y4_ - y1_)**2\n",
    "print(square41y)\n",
    "square41z = (z4_ - z1_)**2\n",
    "print(square41z)\n",
    "add41 = (square41x)+(square41y)+(square41z)"
   ]
  },
  {
   "cell_type": "code",
   "execution_count": 61,
   "metadata": {},
   "outputs": [
    {
     "name": "stdout",
     "output_type": "stream",
     "text": [
      "[[ 2982.89095169]\n",
      " [ 2982.70918965]\n",
      " [ 2982.50854449]\n",
      " ...\n",
      " [20088.109346  ]\n",
      " [20089.31075363]\n",
      " [20090.42764472]]\n"
     ]
    }
   ],
   "source": [
    "distance41 = sqrt(add41)\n",
    "print(distance41)"
   ]
  },
  {
   "cell_type": "code",
   "execution_count": 62,
   "metadata": {},
   "outputs": [
    {
     "name": "stdout",
     "output_type": "stream",
     "text": [
      "[500.16421977]\n",
      "2010-01-07T03:36:38.979000000\n"
     ]
    }
   ],
   "source": [
    "min(distance41)\n",
    "print(min(distance41))\n",
    "np.argmin(distance41)\n",
    "print(time[np.argmin(distance41)])"
   ]
  },
  {
   "cell_type": "code",
   "execution_count": 63,
   "metadata": {},
   "outputs": [
    {
     "name": "stdout",
     "output_type": "stream",
     "text": [
      "[[2.48977581e+06]\n",
      " [2.49071277e+06]\n",
      " [2.49134163e+06]\n",
      " ...\n",
      " [1.45601139e+10]\n",
      " [1.45592457e+10]\n",
      " [1.45584020e+10]]\n",
      "[[9.47285765e+06]\n",
      " [9.47160733e+06]\n",
      " [9.47100625e+06]\n",
      " ...\n",
      " [1.40206045e+09]\n",
      " [1.40277959e+09]\n",
      " [1.40350652e+09]]\n",
      "[[3.99640706e+06]\n",
      " [3.99400225e+06]\n",
      " [3.99120796e+06]\n",
      " ...\n",
      " [3.22903490e+09]\n",
      " [3.22969463e+09]\n",
      " [3.23037663e+09]]\n"
     ]
    }
   ],
   "source": [
    "square32x = (x3_ - x2_)**2\n",
    "print(square32x) \n",
    "square32y = (y3_ - y2_)**2\n",
    "print(square32y)\n",
    "square32z = (z3_ - z2_)**2\n",
    "print(square32z)\n",
    "add32 = (square32x)+(square32y)+(square32z)"
   ]
  },
  {
   "cell_type": "code",
   "execution_count": 64,
   "metadata": {},
   "outputs": [
    {
     "name": "stdout",
     "output_type": "stream",
     "text": [
      "[[  3994.87678316]\n",
      " [  3994.53656359]\n",
      " [  3994.19026075]\n",
      " ...\n",
      " [138532.33997164]\n",
      " [138534.18305269]\n",
      " [138536.22316168]]\n"
     ]
    }
   ],
   "source": [
    "distance32 = sqrt(add32)\n",
    "print(distance32)"
   ]
  },
  {
   "cell_type": "code",
   "execution_count": 65,
   "metadata": {},
   "outputs": [
    {
     "name": "stdout",
     "output_type": "stream",
     "text": [
      "[685.36865445]\n",
      "2010-10-12T13:06:30.586000000\n"
     ]
    }
   ],
   "source": [
    "min(distance32)\n",
    "print(min(distance32))\n",
    "np.argmin(distance32)\n",
    "print(time[np.argmin(distance32)])"
   ]
  },
  {
   "cell_type": "code",
   "execution_count": 66,
   "metadata": {},
   "outputs": [
    {
     "name": "stdout",
     "output_type": "stream",
     "text": [
      "[[2.54147115e+06]\n",
      " [2.54210638e+06]\n",
      " [2.54306560e+06]\n",
      " ...\n",
      " [1.14828579e+10]\n",
      " [1.14829441e+10]\n",
      " [1.14830730e+10]]\n",
      "[[11950849.        ]\n",
      " [11949444.63500977]\n",
      " [11948067.35719299]\n",
      " ...\n",
      " [99512626.53375244]\n",
      " [99400900.        ]\n",
      " [99287212.21313477]]\n",
      "[[3.67604229e+06]\n",
      " [3.67373590e+06]\n",
      " [3.67143023e+06]\n",
      " ...\n",
      " [5.39828013e+08]\n",
      " [5.39990847e+08]\n",
      " [5.40162783e+08]]\n"
     ]
    }
   ],
   "source": [
    "square42x = (x4_ - x2_)**2\n",
    "print(square42x) \n",
    "square42y = (y4_ - y2_)**2\n",
    "print(square42y)\n",
    "square42z = (z4_ - z2_)**2\n",
    "print(square42z)\n",
    "add42 = (square42x)+(square42y)+(square42z)"
   ]
  },
  {
   "cell_type": "code",
   "execution_count": 67,
   "metadata": {},
   "outputs": [
    {
     "name": "stdout",
     "output_type": "stream",
     "text": [
      "[[  4262.43620889]\n",
      " [  4262.07542257]\n",
      " [  4261.75588036]\n",
      " ...\n",
      " [110100.8561873 ]\n",
      " [110101.47986642]\n",
      " [110102.32986999]]\n"
     ]
    }
   ],
   "source": [
    "distance42 = sqrt(add42)\n",
    "print(distance42)"
   ]
  },
  {
   "cell_type": "code",
   "execution_count": 68,
   "metadata": {},
   "outputs": [
    {
     "name": "stdout",
     "output_type": "stream",
     "text": [
      "[1626.97070054]\n",
      "2010-01-01T12:51:57.232000000\n"
     ]
    }
   ],
   "source": [
    "min(distance42)\n",
    "print(min(distance42))\n",
    "np.argmin(distance42)\n",
    "print(time[np.argmin(distance42)])"
   ]
  },
  {
   "cell_type": "code",
   "execution_count": 69,
   "metadata": {},
   "outputs": [
    {
     "name": "stdout",
     "output_type": "stream",
     "text": [
      "[[2.65588135e+02]\n",
      " [2.62414688e+02]\n",
      " [2.65715469e+02]\n",
      " ...\n",
      " [1.82444431e+08]\n",
      " [1.82336389e+08]\n",
      " [1.82225743e+08]]\n",
      "[[1.43792048e+05]\n",
      " [1.43792048e+05]\n",
      " [1.43715033e+05]\n",
      " ...\n",
      " [2.24862787e+09]\n",
      " [2.24900725e+09]\n",
      " [2.24938665e+09]]\n",
      "[[6.69136781e+03]\n",
      " [6.69136781e+03]\n",
      " [6.67540063e+03]\n",
      " ...\n",
      " [1.12831487e+09]\n",
      " [1.12846944e+09]\n",
      " [1.12862402e+09]]\n"
     ]
    }
   ],
   "source": [
    "square43x = (x4_ - x3_)**2\n",
    "print(square43x) \n",
    "square43y = (y4_ - y3_)**2\n",
    "print(square43y)\n",
    "square43z = (z4_ - z3_)**2\n",
    "print(square43z)\n",
    "add43 = (square43x)+(square43y)+(square43z)"
   ]
  },
  {
   "cell_type": "code",
   "execution_count": 70,
   "metadata": {},
   "outputs": [
    {
     "name": "stdout",
     "output_type": "stream",
     "text": [
      "[[  388.26408983]\n",
      " [  388.26000309]\n",
      " [  388.1444951 ]\n",
      " ...\n",
      " [59660.59982871]\n",
      " [59664.16912631]\n",
      " [59667.71674179]]\n"
     ]
    }
   ],
   "source": [
    "distance43 = sqrt(add43)\n",
    "print(distance43)"
   ]
  },
  {
   "cell_type": "code",
   "execution_count": 71,
   "metadata": {},
   "outputs": [
    {
     "name": "stdout",
     "output_type": "stream",
     "text": [
      "[65.05635539]\n",
      "2010-01-02T10:45:50.534000000\n"
     ]
    }
   ],
   "source": [
    "min(distance43)\n",
    "print(min(distance43))\n",
    "np.argmin(distance43)\n",
    "print(time[np.argmin(distance43)])"
   ]
  },
  {
   "cell_type": "code",
   "execution_count": 72,
   "metadata": {},
   "outputs": [
    {
     "name": "stdout",
     "output_type": "stream",
     "text": [
      "[  2233.20949763   2233.52587733   2233.93606462 ... 125004.64522983\n",
      " 125005.48997995 125006.44287263]\n",
      "[ 7577493  7577492  7577491 ... 10905320 10905319 10905315]\n",
      "[1093.62076137]\n",
      "2011-02-24T08:39:26.116000000\n",
      "[1093.63690694]\n",
      "2011-02-24T08:39:21.907000000\n",
      "[1093.68055508]\n",
      "2011-02-24T08:39:17.698000000\n",
      "[1093.8049385]\n",
      "2011-02-24T08:39:30.325000000\n",
      "[1093.87124742]\n",
      "2011-02-24T08:39:13.488000000\n",
      "[1094.13818062]\n",
      "2011-02-24T08:39:34.534000000\n",
      "[1094.18876414]\n",
      "2011-02-24T08:39:09.279000000\n",
      "[1094.52828176]\n",
      "2011-02-24T08:39:38.743000000\n",
      "[1094.63205919]\n",
      "2011-02-24T08:39:05.070000000\n",
      "[1095.09854979]\n",
      "2011-02-24T08:39:00.861000000\n"
     ]
    }
   ],
   "source": [
    "print(distance21.ravel())\n",
    "distance21_min = np.argsort(distance21.ravel())\n",
    "print(distance21_min)\n",
    "for i in distance21_min[:10]:\n",
    "    print(distance21[i])\n",
    "    print(time[i])"
   ]
  },
  {
   "cell_type": "code",
   "execution_count": 73,
   "metadata": {},
   "outputs": [
    {
     "data": {
      "image/png": "[encoded data removed]",
      "text/plain": [
       "<Figure size 640x480 with 1 Axes>"
      ]
     },
     "metadata": {},
     "output_type": "display_data"
    }
   ],
   "source": [
    "import matplotlib.pyplot as plt\n",
    "\n",
    "height1 = [99182.094280, 99176.389159, 99170.689476, 99187.861085, 99164.917766, 99193.568373, 99159.272192 , 99199.281839, 99153.498605, 99147.752121]\n",
    "height2 = [107627.822434, 107622.770215, 107617.795219, 107632.797589, 107612.824681, 107637.771073, 107607.844020, 107642.747817, 107602.871014, 107597.894882]\n",
    "distance = [1093.62076137, 1093.63690694, 1093.68055508, 1093.8049385, 1093.87124742, 1094.13818062, 1094.18876414, 1094.52828176, 1094.63205919, 1095.09854979]\n",
    "\n",
    "plt.scatter(distance, height1)\n",
    "plt.scatter(distance, height2)\n",
    "plt.show()"
   ]
  },
  {
   "cell_type": "code",
   "execution_count": 74,
   "metadata": {},
   "outputs": [
    {
     "name": "stdout",
     "output_type": "stream",
     "text": [
      "[ 2888.5069725   2888.37578596  2888.1302104  ... 65688.35983139\n",
      " 65694.7716593  65701.18930804]\n",
      "[13068849 13068848 13068847 ...  3126439  3126441  3126440]\n",
      "[917.77286675]\n",
      "2011-12-18T06:01:50.323000000\n",
      "[917.84933356]\n",
      "2011-12-18T06:01:46.106000000\n",
      "[917.94858279]\n",
      "2011-12-18T06:01:41.889000000\n",
      "[918.02630909]\n",
      "2011-12-18T06:01:37.672000000\n",
      "[918.23697515]\n",
      "2011-12-18T06:01:33.455000000\n",
      "[918.36403544]\n",
      "2011-12-18T06:01:29.238000000\n",
      "[918.52998014]\n",
      "2011-12-18T06:01:25.021000000\n",
      "[918.54013319]\n",
      "2011-12-18T06:01:20.804000000\n",
      "[918.7009822]\n",
      "2011-12-18T06:01:16.587000000\n",
      "[918.78527313]\n",
      "2011-12-18T06:01:12.370000000\n"
     ]
    }
   ],
   "source": [
    "print(distance31.ravel())\n",
    "distance31_min = np.argsort(distance31.ravel())\n",
    "print(distance31_min)\n",
    "for i in distance31_min[:10]:\n",
    "    print(distance31[i])\n",
    "    print(time[i])"
   ]
  },
  {
   "cell_type": "code",
   "execution_count": 75,
   "metadata": {},
   "outputs": [
    {
     "data": {
      "image/png": "[encoded data removed]",
      "text/plain": [
       "<Figure size 640x480 with 1 Axes>"
      ]
     },
     "metadata": {},
     "output_type": "display_data"
    }
   ],
   "source": [
    "import matplotlib.pyplot as plt\n",
    "height1 = [135075.259243, 135075.236417, 135075.256273, 135075.233565, 135075.277196, 135075.260942, 135075.238094 , 135075.262964, 135075.240549, 135075.201792]\n",
    "height3 = [135828.779470, 135828.779470, 135828.822259, 135828.764913, 135828.794011, 135828.775950, 135828.724938, 135828.748029, 135828.766605, 135828.814693]\n",
    "distance = [917.77286675, 917.84933356, 917.94858279, 918.02630909, 918.23697515, 918.36403544, 918.52998014, 918.54013319, 918.7009822, 918.78527313]\n",
    "\n",
    "plt.scatter(distance, height1)\n",
    "plt.scatter(distance, height3)\n",
    "plt.show()\n"
   ]
  },
  {
   "cell_type": "code",
   "execution_count": 76,
   "metadata": {},
   "outputs": [
    {
     "name": "stdout",
     "output_type": "stream",
     "text": [
      "[ 2982.89095169  2982.70918965  2982.50854449 ... 20088.109346\n",
      " 20089.31075363 20090.42764472]\n",
      "[ 125213  125209  125225 ... 3445770 3445771 3445772]\n",
      "[500.16421977]\n",
      "2010-01-07T03:36:38.979000000\n",
      "[500.16703181]\n",
      "2010-01-07T03:36:22.185000000\n",
      "[500.17062872]\n",
      "2010-01-07T03:37:29.362000000\n",
      "[500.18428419]\n",
      "2010-01-07T03:36:30.582000000\n",
      "[500.18622095]\n",
      "2010-01-07T03:36:47.376000000\n",
      "[500.19918741]\n",
      "2010-01-07T03:37:12.568000000\n",
      "[500.20228849]\n",
      "2010-01-07T03:37:04.170000000\n",
      "[500.20250809]\n",
      "2010-01-07T03:37:16.766000000\n",
      "[500.21598102]\n",
      "2010-01-07T03:36:34.781000000\n",
      "[500.21730593]\n",
      "2010-01-07T03:36:09.590000000\n"
     ]
    }
   ],
   "source": [
    "print(distance41.ravel())\n",
    "distance41_min = np.argsort(distance41.ravel())\n",
    "print(distance41_min)\n",
    "for i in distance41_min[:10]:\n",
    "    print(distance41[i])\n",
    "    print(time[i])"
   ]
  },
  {
   "cell_type": "code",
   "execution_count": 77,
   "metadata": {},
   "outputs": [
    {
     "data": {
      "image/png": "[encoded data removed]",
      "text/plain": [
       "<Figure size 640x480 with 1 Axes>"
      ]
     },
     "metadata": {},
     "output_type": "display_data"
    }
   ],
   "source": [
    "import matplotlib.pyplot as plt\n",
    "height1 = [135323.912861, 135323.230960, 135325.970970, 135323.551384, 135324.233746, 135325.360547, 135324.958684, 135325.463728, 135323.728224, 135322.683232]\n",
    "height4 = [136333.862608, 136333.137958, 136335.975441, 136333.504484, 136334.271836, 136335.324509, 136334.965600, 136335.482874, 136333.704677, 136332.533289]\n",
    "distance = [500.16421977, 500.16703181, 500.17062872, 500.18428419, 500.18622095, 500.19918741, 500.20228849, 500.20250809, 500.21598102, 500.21730593]\n",
    "\n",
    "plt.scatter(distance, height1)\n",
    "plt.scatter(distance, height4)\n",
    "plt.show()"
   ]
  },
  {
   "cell_type": "code",
   "execution_count": 78,
   "metadata": {},
   "outputs": [
    {
     "name": "stdout",
     "output_type": "stream",
     "text": [
      "[  3994.87678316   3994.53656359   3994.19026075 ... 138532.33997164\n",
      " 138534.18305269 138536.22316168]\n",
      "[ 5206233  5206234  5206235 ... 11577557 11577556 11577561]\n",
      "[685.36865445]\n",
      "2010-10-12T13:06:30.586000000\n",
      "[685.42622153]\n",
      "2010-10-12T13:06:34.792000000\n",
      "[685.43648161]\n",
      "2010-10-12T13:06:38.997000000\n",
      "[685.50886431]\n",
      "2010-10-12T13:06:26.381000000\n",
      "[685.59186635]\n",
      "2010-10-12T13:06:43.203000000\n",
      "[685.61723435]\n",
      "2010-10-12T13:06:22.176000000\n",
      "[685.81958942]\n",
      "2010-10-12T13:06:47.408000000\n",
      "[685.93964464]\n",
      "2010-10-12T13:06:17.970000000\n",
      "[686.20097958]\n",
      "2010-10-12T13:06:51.614000000\n",
      "[686.25715294]\n",
      "2010-10-12T13:06:13.764000000\n"
     ]
    }
   ],
   "source": [
    "print(distance32.ravel())\n",
    "distance32_min = np.argsort(distance32.ravel())\n",
    "print(distance32_min)\n",
    "for i in distance32_min[:10]:\n",
    "    print(distance32[i])\n",
    "    print(time[i])"
   ]
  },
  {
   "cell_type": "code",
   "execution_count": 79,
   "metadata": {},
   "outputs": [
    {
     "data": {
      "image/png": "[encoded data removed]",
      "text/plain": [
       "<Figure size 640x480 with 1 Axes>"
      ]
     },
     "metadata": {},
     "output_type": "display_data"
    }
   ],
   "source": [
    "import matplotlib.pyplot as plt\n",
    "height2 = [135082.033031, 135080.615786, 135079.217802, 135083.331854, 135077.854450, 135084.802047, 135076.460569, 135087.518374, 135075.089880, 135088.864325]\n",
    "height3 = [135790.828489, 135789.799734, 135788.765792, 135791.862523, 135787.669108, 135792.881169, 135786.635260, 135794.949465, 135785.552443, 135795.978450]\n",
    "distance = [685.36865445, 685.42622153, 685.43648161, 685.50886431, 685.59186635, 685.61723435, 685.81958942, 685.93964464, 686.20097958, 686.25715294]\n",
    "plt.scatter(distance, height2)\n",
    "plt.scatter(distance, height3)\n",
    "plt.show()"
   ]
  },
  {
   "cell_type": "code",
   "execution_count": 80,
   "metadata": {},
   "outputs": [
    {
     "name": "stdout",
     "output_type": "stream",
     "text": [
      "[  4262.43620889   4262.07542257   4261.75588036 ... 110100.8561873\n",
      " 110101.47986642 110102.32986999]\n",
      "[   10081    10079    10082 ... 10785869 10785874 10785872]\n",
      "[1626.97070054]\n",
      "2010-01-01T12:51:57.232000000\n",
      "[1626.98553413]\n",
      "2010-01-01T12:51:48.835000000\n",
      "[1627.03109902]\n",
      "2010-01-01T12:52:01.431000000\n",
      "[1627.07208469]\n",
      "2010-01-01T12:51:53.034000000\n",
      "[1627.08159656]\n",
      "2010-01-01T12:51:44.637000000\n",
      "[1627.11519826]\n",
      "2010-01-01T12:51:36.240000000\n",
      "[1627.11807941]\n",
      "2010-01-01T12:51:40.439000000\n",
      "[1627.1452561]\n",
      "2010-01-01T12:52:05.629000000\n",
      "[1627.20336199]\n",
      "2010-01-01T12:51:32.042000000\n",
      "[1627.22056297]\n",
      "2010-01-01T12:52:09.828000000\n"
     ]
    }
   ],
   "source": [
    "print(distance42.ravel())\n",
    "distance42_min = np.argsort(distance42.ravel())\n",
    "print(distance42_min)\n",
    "for i in distance42_min[:10]:\n",
    "    print(distance42[i])\n",
    "    print(time[i])"
   ]
  },
  {
   "cell_type": "code",
   "execution_count": 81,
   "metadata": {},
   "outputs": [
    {
     "data": {
      "image/png": "[encoded data removed]",
      "text/plain": [
       "<Figure size 640x480 with 1 Axes>"
      ]
     },
     "metadata": {},
     "output_type": "display_data"
    }
   ],
   "source": [
    "import matplotlib.pyplot as plt\n",
    "height2 = [11375.656600, 11332.654844, 11375.656600, 11361.313716, 11318.341074, 11289.808214, 11304.034721, 11390.149063, 11275.594142, 11404.508273]\n",
    "height4 = [11505.685698, 11477.042713, 11505.685698, 11491.285619, 11462.732448, 11434.189052, 11448.422312, 11520.000252, 11419.970692, 11534.411852]\n",
    "distance = [1626.97070054, 1626.98553413, 1627.03109902, 1627.07208469, 1627.08159656, 1627.11519826, 1627.11807941, 1627.1452561, 1627.20336199, 1627.22056297]\n",
    "plt.scatter(distance, height2)\n",
    "plt.scatter(distance, height4)\n",
    "plt.show()"
   ]
  },
  {
   "cell_type": "code",
   "execution_count": 82,
   "metadata": {},
   "outputs": [
    {
     "name": "stdout",
     "output_type": "stream",
     "text": [
      "[  388.26408983   388.26000309   388.1444951  ... 59660.59982871\n",
      " 59664.16912631 59667.71674179]\n",
      "[  28858   28859   28857 ... 2311828 2311830 2311829]\n",
      "[65.05635539]\n",
      "2010-01-02T10:45:50.534000000\n",
      "[66.54531361]\n",
      "2010-01-02T10:45:54.733000000\n",
      "[69.85406814]\n",
      "2010-01-02T10:45:46.336000000\n",
      "[69.99669977]\n",
      "2010-01-02T10:45:58.931000000\n",
      "[70.03269119]\n",
      "2010-01-02T10:46:03.130000000\n",
      "[73.60219948]\n",
      "2010-01-02T10:45:37.939000000\n",
      "[73.68779591]\n",
      "2010-01-02T10:45:42.138000000\n",
      "[73.93527577]\n",
      "2010-01-02T10:46:07.328000000\n",
      "[81.69779883]\n",
      "2010-01-02T10:45:29.543000000\n",
      "[81.71760734]\n",
      "2010-01-02T10:45:21.146000000\n"
     ]
    }
   ],
   "source": [
    "print(distance43.ravel())\n",
    "distance43_min = np.argsort(distance43.ravel())\n",
    "print(distance43_min)\n",
    "for i in distance43_min[:10]:\n",
    "    print(distance43[i])\n",
    "    print(time[i])"
   ]
  },
  {
   "cell_type": "code",
   "execution_count": 83,
   "metadata": {},
   "outputs": [
    {
     "ename": "ValueError",
     "evalue": "x and y must be the same size",
     "output_type": "error",
     "traceback": [
      "\u001b[1;31m---------------------------------------------------------------------------\u001b[0m",
      "\u001b[1;31mValueError\u001b[0m                                Traceback (most recent call last)",
      "Cell \u001b[1;32mIn[83], line 6\u001b[0m\n\u001b[0;32m      4\u001b[0m distance \u001b[39m=\u001b[39m [\u001b[39m65.05635539\u001b[39m, \u001b[39m66.54531361\u001b[39m, \u001b[39m69.85406814\u001b[39m, \u001b[39m69.99669977\u001b[39m, \u001b[39m70.03269119\u001b[39m, \u001b[39m73.60219948\u001b[39m, \u001b[39m73.68779591\u001b[39m, \u001b[39m73.93527577\u001b[39m, \u001b[39m81.69779883\u001b[39m, \u001b[39m81.71760734\u001b[39m]\n\u001b[0;32m      5\u001b[0m plt\u001b[39m.\u001b[39mscatter(distance, height3)\n\u001b[1;32m----> 6\u001b[0m plt\u001b[39m.\u001b[39;49mscatter(distance, height4)\n\u001b[0;32m      7\u001b[0m plt\u001b[39m.\u001b[39mshow()\n",
      "File \u001b[1;32mc:\\Users\\franc\\anaconda3\\lib\\site-packages\\matplotlib\\pyplot.py:2835\u001b[0m, in \u001b[0;36mscatter\u001b[1;34m(x, y, s, c, marker, cmap, norm, vmin, vmax, alpha, linewidths, edgecolors, plotnonfinite, data, **kwargs)\u001b[0m\n\u001b[0;32m   2830\u001b[0m \u001b[39m@_copy_docstring_and_deprecators\u001b[39m(Axes\u001b[39m.\u001b[39mscatter)\n\u001b[0;32m   2831\u001b[0m \u001b[39mdef\u001b[39;00m \u001b[39mscatter\u001b[39m(\n\u001b[0;32m   2832\u001b[0m         x, y, s\u001b[39m=\u001b[39m\u001b[39mNone\u001b[39;00m, c\u001b[39m=\u001b[39m\u001b[39mNone\u001b[39;00m, marker\u001b[39m=\u001b[39m\u001b[39mNone\u001b[39;00m, cmap\u001b[39m=\u001b[39m\u001b[39mNone\u001b[39;00m, norm\u001b[39m=\u001b[39m\u001b[39mNone\u001b[39;00m,\n\u001b[0;32m   2833\u001b[0m         vmin\u001b[39m=\u001b[39m\u001b[39mNone\u001b[39;00m, vmax\u001b[39m=\u001b[39m\u001b[39mNone\u001b[39;00m, alpha\u001b[39m=\u001b[39m\u001b[39mNone\u001b[39;00m, linewidths\u001b[39m=\u001b[39m\u001b[39mNone\u001b[39;00m, \u001b[39m*\u001b[39m,\n\u001b[0;32m   2834\u001b[0m         edgecolors\u001b[39m=\u001b[39m\u001b[39mNone\u001b[39;00m, plotnonfinite\u001b[39m=\u001b[39m\u001b[39mFalse\u001b[39;00m, data\u001b[39m=\u001b[39m\u001b[39mNone\u001b[39;00m, \u001b[39m*\u001b[39m\u001b[39m*\u001b[39mkwargs):\n\u001b[1;32m-> 2835\u001b[0m     __ret \u001b[39m=\u001b[39m gca()\u001b[39m.\u001b[39mscatter(\n\u001b[0;32m   2836\u001b[0m         x, y, s\u001b[39m=\u001b[39ms, c\u001b[39m=\u001b[39mc, marker\u001b[39m=\u001b[39mmarker, cmap\u001b[39m=\u001b[39mcmap, norm\u001b[39m=\u001b[39mnorm,\n\u001b[0;32m   2837\u001b[0m         vmin\u001b[39m=\u001b[39mvmin, vmax\u001b[39m=\u001b[39mvmax, alpha\u001b[39m=\u001b[39malpha, linewidths\u001b[39m=\u001b[39mlinewidths,\n\u001b[0;32m   2838\u001b[0m         edgecolors\u001b[39m=\u001b[39medgecolors, plotnonfinite\u001b[39m=\u001b[39mplotnonfinite,\n\u001b[0;32m   2839\u001b[0m         \u001b[39m*\u001b[39m\u001b[39m*\u001b[39m({\u001b[39m\"\u001b[39m\u001b[39mdata\u001b[39m\u001b[39m\"\u001b[39m: data} \u001b[39mif\u001b[39;00m data \u001b[39mis\u001b[39;00m \u001b[39mnot\u001b[39;00m \u001b[39mNone\u001b[39;00m \u001b[39melse\u001b[39;00m {}), \u001b[39m*\u001b[39m\u001b[39m*\u001b[39mkwargs)\n\u001b[0;32m   2840\u001b[0m     sci(__ret)\n\u001b[0;32m   2841\u001b[0m     \u001b[39mreturn\u001b[39;00m __ret\n",
      "File \u001b[1;32mc:\\Users\\franc\\anaconda3\\lib\\site-packages\\matplotlib\\__init__.py:1442\u001b[0m, in \u001b[0;36m_preprocess_data.<locals>.inner\u001b[1;34m(ax, data, *args, **kwargs)\u001b[0m\n\u001b[0;32m   1439\u001b[0m \u001b[39m@functools\u001b[39m\u001b[39m.\u001b[39mwraps(func)\n\u001b[0;32m   1440\u001b[0m \u001b[39mdef\u001b[39;00m \u001b[39minner\u001b[39m(ax, \u001b[39m*\u001b[39margs, data\u001b[39m=\u001b[39m\u001b[39mNone\u001b[39;00m, \u001b[39m*\u001b[39m\u001b[39m*\u001b[39mkwargs):\n\u001b[0;32m   1441\u001b[0m     \u001b[39mif\u001b[39;00m data \u001b[39mis\u001b[39;00m \u001b[39mNone\u001b[39;00m:\n\u001b[1;32m-> 1442\u001b[0m         \u001b[39mreturn\u001b[39;00m func(ax, \u001b[39m*\u001b[39m\u001b[39mmap\u001b[39m(sanitize_sequence, args), \u001b[39m*\u001b[39m\u001b[39m*\u001b[39mkwargs)\n\u001b[0;32m   1444\u001b[0m     bound \u001b[39m=\u001b[39m new_sig\u001b[39m.\u001b[39mbind(ax, \u001b[39m*\u001b[39margs, \u001b[39m*\u001b[39m\u001b[39m*\u001b[39mkwargs)\n\u001b[0;32m   1445\u001b[0m     auto_label \u001b[39m=\u001b[39m (bound\u001b[39m.\u001b[39marguments\u001b[39m.\u001b[39mget(label_namer)\n\u001b[0;32m   1446\u001b[0m                   \u001b[39mor\u001b[39;00m bound\u001b[39m.\u001b[39mkwargs\u001b[39m.\u001b[39mget(label_namer))\n",
      "File \u001b[1;32mc:\\Users\\franc\\anaconda3\\lib\\site-packages\\matplotlib\\axes\\_axes.py:4584\u001b[0m, in \u001b[0;36mAxes.scatter\u001b[1;34m(self, x, y, s, c, marker, cmap, norm, vmin, vmax, alpha, linewidths, edgecolors, plotnonfinite, **kwargs)\u001b[0m\n\u001b[0;32m   4582\u001b[0m y \u001b[39m=\u001b[39m np\u001b[39m.\u001b[39mma\u001b[39m.\u001b[39mravel(y)\n\u001b[0;32m   4583\u001b[0m \u001b[39mif\u001b[39;00m x\u001b[39m.\u001b[39msize \u001b[39m!=\u001b[39m y\u001b[39m.\u001b[39msize:\n\u001b[1;32m-> 4584\u001b[0m     \u001b[39mraise\u001b[39;00m \u001b[39mValueError\u001b[39;00m(\u001b[39m\"\u001b[39m\u001b[39mx and y must be the same size\u001b[39m\u001b[39m\"\u001b[39m)\n\u001b[0;32m   4586\u001b[0m \u001b[39mif\u001b[39;00m s \u001b[39mis\u001b[39;00m \u001b[39mNone\u001b[39;00m:\n\u001b[0;32m   4587\u001b[0m     s \u001b[39m=\u001b[39m (\u001b[39m20\u001b[39m \u001b[39mif\u001b[39;00m mpl\u001b[39m.\u001b[39mrcParams[\u001b[39m'\u001b[39m\u001b[39m_internal.classic_mode\u001b[39m\u001b[39m'\u001b[39m] \u001b[39melse\u001b[39;00m\n\u001b[0;32m   4588\u001b[0m          mpl\u001b[39m.\u001b[39mrcParams[\u001b[39m'\u001b[39m\u001b[39mlines.markersize\u001b[39m\u001b[39m'\u001b[39m] \u001b[39m*\u001b[39m\u001b[39m*\u001b[39m \u001b[39m2.0\u001b[39m)\n",
      "\u001b[1;31mValueError\u001b[0m: x and y must be the same size"
     ]
    },
    {
     "data": {
      "image/png": "[encoded data removed]",
      "text/plain": [
       "<Figure size 640x480 with 1 Axes>"
      ]
     },
     "metadata": {},
     "output_type": "display_data"
    }
   ],
   "source": [
    "import matplotlib.pyplot as plt\n",
    "height3 = [133406.758375, 133408.194537, 133405.313047, 133409.588748, 133410.993967, 133402.561974, 133403.883415, 133412.423865, 133399.648625, 133396.851294 ]\n",
    "height4 = [ ]\n",
    "distance = [65.05635539, 66.54531361, 69.85406814, 69.99669977, 70.03269119, 73.60219948, 73.68779591, 73.93527577, 81.69779883, 81.71760734]\n",
    "plt.scatter(distance, height3)\n",
    "plt.scatter(distance, height4)\n",
    "plt.show()"
   ]
  },
  {
   "cell_type": "code",
   "execution_count": null,
   "metadata": {},
   "outputs": [
    {
     "data": {
      "image/png": "[encoded data removed]",
      "text/plain": [
       "<Figure size 640x480 with 1 Axes>"
      ]
     },
     "metadata": {},
     "output_type": "display_data"
    }
   ],
   "source": [
    "import matplotlib.pyplot as plt\n",
    "\n",
    "height1 = [99182.094280, 99176.389159, 99170.689476, 99187.861085, 99164.917766, 99193.568373, 99159.272192 , 99199.281839, 99153.498605, 99147.752121]\n",
    "#height2 = [, ]\n",
    "distance = [1093.62076137, 1093.63690694, 1093.68055508, 1093.8049385, 1093.87124742, 1094.13818062, 1094.18876414, 1094.52828176, 1094.63205919, 1095.09854979]\n",
    "\n",
    "plt.scatter(distance, height1)\n",
    "#plt.scatter(height2, distance)\n",
    "plt.show()"
   ]
  },
  {
   "cell_type": "code",
   "execution_count": null,
   "metadata": {},
   "outputs": [
    {
     "data": {
      "image/png": "[encoded data removed]",
      "text/plain": [
       "<Figure size 640x480 with 1 Axes>"
      ]
     },
     "metadata": {},
     "output_type": "display_data"
    }
   ],
   "source": [
    "import matplotlib.pyplot as plt\n",
    "\n",
    "height2 = [107627.822434, 107622.770215, 107617.795219, 107632.797589, 107612.824681, 107637.771073, 107607.844020, 107642.747817, 107602.871014, 107597.894882]\n",
    "distance = [1093.62076137, 1093.63690694, 1093.68055508, 1093.8049385, 1093.87124742, 1094.13818062, 1094.18876414, 1094.52828176, 1094.63205919, 1095.09854979]\n",
    "\n",
    "plt.scatter(distance, height2)\n",
    "plt.show()"
   ]
  }
 ],
 "metadata": {
  "kernelspec": {
   "display_name": "base",
   "language": "python",
   "name": "python3"
  },
  "language_info": {
   "codemirror_mode": {
    "name": "ipython",
    "version": 3
   },
   "file_extension": ".py",
   "mimetype": "text/x-python",
   "name": "python",
   "nbconvert_exporter": "python",
   "pygments_lexer": "ipython3",
   "version": "3.10.9"
  },
  "orig_nbformat": 4
 },
 "nbformat": 4,
 "nbformat_minor": 2
}
