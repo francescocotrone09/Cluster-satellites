{
 "cells": [
  {
   "cell_type": "markdown",
   "metadata": {},
   "source": [
    "The following code can be used to calculate the altitude of Cluster 2 satellite, by changing the start time and the end time we can get values for the desired time window. The same Code can be used to calculate altitides for Cluster 1, Cluster 3 and Cluster 4"
   ]
  },
  {
   "cell_type": "code",
   "execution_count": 12,
   "metadata": {},
   "outputs": [],
   "source": [
    "import speasy as spz\n",
    "import numpy as np\n",
    "import pandas as pd\n",
    "from matplotlib import pyplot as plt\n",
    "import datetime as dt\n",
    "import numpy\n",
    "from numpy import sqrt"
   ]
  },
  {
   "cell_type": "code",
   "execution_count": 13,
   "metadata": {},
   "outputs": [],
   "source": [
    "csa_tree = spz.inventories.data_tree.csa\n",
    "start_time = dt.datetime(2011,7,23,1,0,0)\n",
    "end_time = dt.datetime(2011,7,23,2,0,0)"
   ]
  },
  {
   "cell_type": "code",
   "execution_count": 14,
   "metadata": {},
   "outputs": [],
   "source": [
    "parameters = list(spz.inventories.flat_inventories.csa.parameters.keys())"
   ]
  },
  {
   "cell_type": "code",
   "execution_count": 15,
   "metadata": {},
   "outputs": [
    {
     "data": {
      "text/plain": [
       "['C1_CP_FGM_SPIN_ISR2/B_mag__C1_CP_FGM_SPIN_ISR2',\n",
       " 'C1_CP_FGM_SPIN_ISR2/B_vec_xyz_isr2__C1_CP_FGM_SPIN_ISR2',\n",
       " 'C1_CP_FGM_SPIN_ISR2/sc_pos_xyz_isr2__C1_CP_FGM_SPIN_ISR2',\n",
       " 'C1_CP_FGM_5VPS/B_vec_xyz_gse__C1_CP_FGM_5VPS',\n",
       " 'C1_CP_FGM_5VPS/B_mag__C1_CP_FGM_5VPS',\n",
       " 'C1_CP_FGM_5VPS/sc_pos_xyz_gse__C1_CP_FGM_5VPS',\n",
       " 'C1_CP_FGM_5VPS_ISR2/B_mag__C1_CP_FGM_5VPS_ISR2',\n",
       " 'C1_CP_FGM_5VPS_ISR2/B_vec_xyz_isr2__C1_CP_FGM_5VPS_ISR2',\n",
       " 'C1_CP_FGM_5VPS_ISR2/sc_pos_xyz_isr2__C1_CP_FGM_5VPS_ISR2',\n",
       " 'C1_CP_FGM_FULL_ISR2/B_mag__C1_CP_FGM_FULL_ISR2',\n",
       " 'C1_CP_FGM_FULL_ISR2/B_vec_xyz_isr2__C1_CP_FGM_FULL_ISR2',\n",
       " 'C1_CP_FGM_FULL_ISR2/sc_pos_xyz_isr2__C1_CP_FGM_FULL_ISR2',\n",
       " 'C1_CP_FGM_SPIN/B_vec_xyz_gse__C1_CP_FGM_SPIN',\n",
       " 'C1_CP_FGM_SPIN/B_mag__C1_CP_FGM_SPIN',\n",
       " 'C1_CP_FGM_SPIN/sc_pos_xyz_gse__C1_CP_FGM_SPIN',\n",
       " 'C1_CP_FGM_FULL/B_vec_xyz_gse__C1_CP_FGM_FULL',\n",
       " 'C1_CP_FGM_FULL/B_mag__C1_CP_FGM_FULL',\n",
       " 'C1_CP_FGM_FULL/sc_pos_xyz_gse__C1_CP_FGM_FULL']"
      ]
     },
     "execution_count": 15,
     "metadata": {},
     "output_type": "execute_result"
    }
   ],
   "source": [
    "[param for param in parameters if \"C1_CP_FGM\" in param]"
   ]
  },
  {
   "cell_type": "code",
   "execution_count": 16,
   "metadata": {},
   "outputs": [
    {
     "data": {
      "text/plain": [
       "['C1_CP_CIS-HIA_LS_SW_IONS_PF/3d_ions__C1_CP_CIS-HIA_LS_SW_IONS_PF',\n",
       " 'C1_CP_CIS-HIA_ONBOARD_MOMENTS/velocity_isr2__C1_CP_CIS-HIA_ONBOARD_MOMENTS',\n",
       " 'C1_CP_CIS-HIA_ONBOARD_MOMENTS/velocity_gse__C1_CP_CIS-HIA_ONBOARD_MOMENTS',\n",
       " 'C1_CP_CIS-HIA_ONBOARD_MOMENTS/pressure_tensor__C1_CP_CIS-HIA_ONBOARD_MOMENTS',\n",
       " 'C1_CP_CIS-HIA_ONBOARD_MOMENTS/temperature__C1_CP_CIS-HIA_ONBOARD_MOMENTS',\n",
       " 'C1_CP_CIS-HIA_ONBOARD_MOMENTS/pressure__C1_CP_CIS-HIA_ONBOARD_MOMENTS',\n",
       " 'C1_CP_CIS-HIA_ONBOARD_MOMENTS/temp_perp__C1_CP_CIS-HIA_ONBOARD_MOMENTS',\n",
       " 'C1_CP_CIS-HIA_ONBOARD_MOMENTS/temp_par__C1_CP_CIS-HIA_ONBOARD_MOMENTS',\n",
       " 'C1_CP_CIS-HIA_ONBOARD_MOMENTS/density__C1_CP_CIS-HIA_ONBOARD_MOMENTS',\n",
       " 'C1_CP_CIS-HIA_ONBOARD_MOMENTS_INERT/velocity_gse_inert__C1_CP_CIS-HIA_ONBOARD_MOMENTS_INERT',\n",
       " 'C1_CP_CIS-HIA_ONBOARD_MOMENTS_INERT/velocity_isr2_inert__C1_CP_CIS-HIA_ONBOARD_MOMENTS_INERT',\n",
       " 'C1_CP_CIS-HIA_ONBOARD_MOMENTS_INERT/velocity_perp_gse_inert__C1_CP_CIS-HIA_ONBOARD_MOMENTS_INERT',\n",
       " 'C1_CP_CIS-HIA_ONBOARD_MOMENTS_INERT/velocity_perp_isr2_inert__C1_CP_CIS-HIA_ONBOARD_MOMENTS_INERT',\n",
       " 'C1_CP_CIS-HIA_ONBOARD_MOMENTS_INERT/velocity_par_gse_inert__C1_CP_CIS-HIA_ONBOARD_MOMENTS_INERT',\n",
       " 'C1_CP_CIS-HIA_ONBOARD_MOMENTS_INERT/velocity_par_isr2_inert__C1_CP_CIS-HIA_ONBOARD_MOMENTS_INERT',\n",
       " 'C1_CP_CIS-HIA_ONBOARD_MOMENTS_INERT/Efield_GSE_INERT__C1_CP_CIS-HIA_ONBOARD_MOMENTS_INERT',\n",
       " 'C1_CP_CIS-HIA_ONBOARD_MOMENTS_INERT/Efield_ISR2_INERT__C1_CP_CIS-HIA_ONBOARD_MOMENTS_INERT',\n",
       " 'C1_CP_CIS-HIA_ONBOARD_MOMENTS_INERT/velocity_isr2__C1_CP_CIS-HIA_ONBOARD_MOMENTS_INERT',\n",
       " 'C1_CP_CIS-HIA_ONBOARD_MOMENTS_INERT/velocity_gse__C1_CP_CIS-HIA_ONBOARD_MOMENTS_INERT',\n",
       " 'C1_CP_CIS-HIA_ONBOARD_MOMENTS_INERT/B_vec_xyz_gse__C1_CP_CIS-HIA_ONBOARD_MOMENTS_INERT',\n",
       " 'C1_CP_CIS-HIA_ONBOARD_MOMENTS_INERT/sc_v_xyz_gse__C1_CP_CIS-HIA_ONBOARD_MOMENTS_INERT',\n",
       " 'C1_CP_CIS-HIA_ONBOARD_MOMENTS_INERT/sc_at1_lat__C1_CP_CIS-HIA_ONBOARD_MOMENTS_INERT',\n",
       " 'C1_CP_CIS-HIA_ONBOARD_MOMENTS_INERT/sc_at1_long__C1_CP_CIS-HIA_ONBOARD_MOMENTS_INERT',\n",
       " 'C1_CP_CIS-HIA_LS_SW_IONS_CS/3d_ions__C1_CP_CIS-HIA_LS_SW_IONS_CS',\n",
       " 'C1_CP_CIS-HIA_HS_1D_PEF/flux__C1_CP_CIS-HIA_HS_1D_PEF',\n",
       " 'C1_CP_CIS-HIA_HS_MAG_IONS_PSD/3d_ions__C1_CP_CIS-HIA_HS_MAG_IONS_PSD',\n",
       " 'C1_CP_CIS-HIA_HS_SW_IONS_PSD/3d_ions__C1_CP_CIS-HIA_HS_SW_IONS_PSD',\n",
       " 'C1_CP_CIS-HIA_HS_MAG_IONS_CS/3d_ions__C1_CP_CIS-HIA_HS_MAG_IONS_CS',\n",
       " 'C1_CP_CIS-HIA_HS_MAG_IONS_PF/3d_ions__C1_CP_CIS-HIA_HS_MAG_IONS_PF',\n",
       " 'C1_CP_CIS-HIA_HS_SW_IONS_RC/3d_ions__C1_CP_CIS-HIA_HS_SW_IONS_RC',\n",
       " 'C1_CP_CIS-HIA_HS_SW_IONS_CS/3d_ions__C1_CP_CIS-HIA_HS_SW_IONS_CS',\n",
       " 'C1_CP_CIS-HIA_PAD_HS_MAG_IONS_PF/Differential_Particle_Flux__C1_CP_CIS-HIA_PAD_HS_MAG_IONS_PF',\n",
       " 'C1_CP_CIS-HIA_LS_SW_IONS_PEF/3d_ions__C1_CP_CIS-HIA_LS_SW_IONS_PEF',\n",
       " 'C1_CP_CIS-HIA_HS_MAG_IONS_PEF/3d_ions__C1_CP_CIS-HIA_HS_MAG_IONS_PEF',\n",
       " 'C1_CP_CIS-HIA_HS_SW_IONS_PEF/3d_ions__C1_CP_CIS-HIA_HS_SW_IONS_PEF',\n",
       " 'C1_CP_CIS-HIA_LS_SW_IONS_RC/3d_ions__C1_CP_CIS-HIA_LS_SW_IONS_RC',\n",
       " 'C1_CP_CIS-HIA_LS_1D_PEF/flux__C1_CP_CIS-HIA_LS_1D_PEF',\n",
       " 'C1_CP_CIS-HIA_HS_MAG_IONS_RC/3d_ions__C1_CP_CIS-HIA_HS_MAG_IONS_RC',\n",
       " 'C1_CP_CIS-HIA_LS_SW_IONS_PSD/3d_ions__C1_CP_CIS-HIA_LS_SW_IONS_PSD',\n",
       " 'C1_CP_CIS-HIA_HS_SW_IONS_PF/3d_ions__C1_CP_CIS-HIA_HS_SW_IONS_PF']"
      ]
     },
     "execution_count": 16,
     "metadata": {},
     "output_type": "execute_result"
    }
   ],
   "source": [
    "[param for param in parameters if \"C1_CP_CIS-HIA\" in param]"
   ]
  },
  {
   "cell_type": "code",
   "execution_count": 17,
   "metadata": {},
   "outputs": [
    {
     "data": {
      "text/plain": [
       "['C1_CP_CIS-CODIF_HS_H1_MOMENTS_INERT/velocity_gse_inert__C1_CP_CIS-CODIF_HS_H1_MOMENTS_INERT',\n",
       " 'C1_CP_CIS-CODIF_HS_H1_MOMENTS_INERT/velocity_isr2_inert__C1_CP_CIS-CODIF_HS_H1_MOMENTS_INERT',\n",
       " 'C1_CP_CIS-CODIF_HS_H1_MOMENTS_INERT/velocity_perp_gse_inert__C1_CP_CIS-CODIF_HS_H1_MOMENTS_INERT',\n",
       " 'C1_CP_CIS-CODIF_HS_H1_MOMENTS_INERT/velocity_perp_isr2_inert__C1_CP_CIS-CODIF_HS_H1_MOMENTS_INERT',\n",
       " 'C1_CP_CIS-CODIF_HS_H1_MOMENTS_INERT/velocity_par_gse_inert__C1_CP_CIS-CODIF_HS_H1_MOMENTS_INERT',\n",
       " 'C1_CP_CIS-CODIF_HS_H1_MOMENTS_INERT/velocity_par_isr2_inert__C1_CP_CIS-CODIF_HS_H1_MOMENTS_INERT',\n",
       " 'C1_CP_CIS-CODIF_HS_H1_MOMENTS_INERT/Efield_GSE_INERT__C1_CP_CIS-CODIF_HS_H1_MOMENTS_INERT',\n",
       " 'C1_CP_CIS-CODIF_HS_H1_MOMENTS_INERT/Efield_ISR2_INERT__C1_CP_CIS-CODIF_HS_H1_MOMENTS_INERT',\n",
       " 'C1_CP_CIS-CODIF_HS_H1_MOMENTS_INERT/velocity__C1_CP_CIS-CODIF_HS_H1_MOMENTS_INERT',\n",
       " 'C1_CP_CIS-CODIF_HS_H1_MOMENTS_INERT/B_vec_xyz_gse__C1_CP_CIS-CODIF_HS_H1_MOMENTS_INERT',\n",
       " 'C1_CP_CIS-CODIF_HS_H1_MOMENTS_INERT/sc_v_xyz_gse__C1_CP_CIS-CODIF_HS_H1_MOMENTS_INERT',\n",
       " 'C1_CP_CIS-CODIF_HS_H1_MOMENTS_INERT/sc_at1_lat__C1_CP_CIS-CODIF_HS_H1_MOMENTS_INERT',\n",
       " 'C1_CP_CIS-CODIF_HS_H1_MOMENTS_INERT/sc_at1_long__C1_CP_CIS-CODIF_HS_H1_MOMENTS_INERT',\n",
       " 'C1_CP_CIS-CODIF_HS_O1_MOMENTS/velocity__C1_CP_CIS-CODIF_HS_O1_MOMENTS',\n",
       " 'C1_CP_CIS-CODIF_HS_O1_MOMENTS/pressure__C1_CP_CIS-CODIF_HS_O1_MOMENTS',\n",
       " 'C1_CP_CIS-CODIF_HS_O1_MOMENTS/density__C1_CP_CIS-CODIF_HS_O1_MOMENTS',\n",
       " 'C1_CP_CIS-CODIF_HS_O1_MOMENTS/T_par__C1_CP_CIS-CODIF_HS_O1_MOMENTS',\n",
       " 'C1_CP_CIS-CODIF_HS_O1_MOMENTS/T_perp__C1_CP_CIS-CODIF_HS_O1_MOMENTS',\n",
       " 'C1_CP_CIS-CODIF_HS_O1_MOMENTS/T__C1_CP_CIS-CODIF_HS_O1_MOMENTS',\n",
       " 'C1_CP_CIS-CODIF_HS_H1_MOMENTS/velocity__C1_CP_CIS-CODIF_HS_H1_MOMENTS',\n",
       " 'C1_CP_CIS-CODIF_HS_H1_MOMENTS/pressure__C1_CP_CIS-CODIF_HS_H1_MOMENTS',\n",
       " 'C1_CP_CIS-CODIF_HS_H1_MOMENTS/T_par__C1_CP_CIS-CODIF_HS_H1_MOMENTS',\n",
       " 'C1_CP_CIS-CODIF_HS_H1_MOMENTS/T_perp__C1_CP_CIS-CODIF_HS_H1_MOMENTS',\n",
       " 'C1_CP_CIS-CODIF_HS_H1_MOMENTS/T__C1_CP_CIS-CODIF_HS_H1_MOMENTS',\n",
       " 'C1_CP_CIS-CODIF_HS_H1_MOMENTS/density__C1_CP_CIS-CODIF_HS_H1_MOMENTS',\n",
       " 'C1_CP_CIS-CODIF_HS_He1_MOMENTS/velocity__C1_CP_CIS-CODIF_HS_He1_MOMENTS',\n",
       " 'C1_CP_CIS-CODIF_HS_He1_MOMENTS/pressure__C1_CP_CIS-CODIF_HS_He1_MOMENTS',\n",
       " 'C1_CP_CIS-CODIF_HS_He1_MOMENTS/T_perp__C1_CP_CIS-CODIF_HS_He1_MOMENTS',\n",
       " 'C1_CP_CIS-CODIF_HS_He1_MOMENTS/density__C1_CP_CIS-CODIF_HS_He1_MOMENTS',\n",
       " 'C1_CP_CIS-CODIF_HS_He1_MOMENTS/T__C1_CP_CIS-CODIF_HS_He1_MOMENTS',\n",
       " 'C1_CP_CIS-CODIF_HS_He1_MOMENTS/T_par__C1_CP_CIS-CODIF_HS_He1_MOMENTS',\n",
       " 'C1_CP_CIS-HIA_ONBOARD_MOMENTS/velocity_isr2__C1_CP_CIS-HIA_ONBOARD_MOMENTS',\n",
       " 'C1_CP_CIS-HIA_ONBOARD_MOMENTS/velocity_gse__C1_CP_CIS-HIA_ONBOARD_MOMENTS',\n",
       " 'C1_CP_CIS-HIA_ONBOARD_MOMENTS/pressure_tensor__C1_CP_CIS-HIA_ONBOARD_MOMENTS',\n",
       " 'C1_CP_CIS-HIA_ONBOARD_MOMENTS/temperature__C1_CP_CIS-HIA_ONBOARD_MOMENTS',\n",
       " 'C1_CP_CIS-HIA_ONBOARD_MOMENTS/pressure__C1_CP_CIS-HIA_ONBOARD_MOMENTS',\n",
       " 'C1_CP_CIS-HIA_ONBOARD_MOMENTS/temp_perp__C1_CP_CIS-HIA_ONBOARD_MOMENTS',\n",
       " 'C1_CP_CIS-HIA_ONBOARD_MOMENTS/temp_par__C1_CP_CIS-HIA_ONBOARD_MOMENTS',\n",
       " 'C1_CP_CIS-HIA_ONBOARD_MOMENTS/density__C1_CP_CIS-HIA_ONBOARD_MOMENTS',\n",
       " 'C1_CP_CIS-HIA_ONBOARD_MOMENTS_INERT/velocity_gse_inert__C1_CP_CIS-HIA_ONBOARD_MOMENTS_INERT',\n",
       " 'C1_CP_CIS-HIA_ONBOARD_MOMENTS_INERT/velocity_isr2_inert__C1_CP_CIS-HIA_ONBOARD_MOMENTS_INERT',\n",
       " 'C1_CP_CIS-HIA_ONBOARD_MOMENTS_INERT/velocity_perp_gse_inert__C1_CP_CIS-HIA_ONBOARD_MOMENTS_INERT',\n",
       " 'C1_CP_CIS-HIA_ONBOARD_MOMENTS_INERT/velocity_perp_isr2_inert__C1_CP_CIS-HIA_ONBOARD_MOMENTS_INERT',\n",
       " 'C1_CP_CIS-HIA_ONBOARD_MOMENTS_INERT/velocity_par_gse_inert__C1_CP_CIS-HIA_ONBOARD_MOMENTS_INERT',\n",
       " 'C1_CP_CIS-HIA_ONBOARD_MOMENTS_INERT/velocity_par_isr2_inert__C1_CP_CIS-HIA_ONBOARD_MOMENTS_INERT',\n",
       " 'C1_CP_CIS-HIA_ONBOARD_MOMENTS_INERT/Efield_GSE_INERT__C1_CP_CIS-HIA_ONBOARD_MOMENTS_INERT',\n",
       " 'C1_CP_CIS-HIA_ONBOARD_MOMENTS_INERT/Efield_ISR2_INERT__C1_CP_CIS-HIA_ONBOARD_MOMENTS_INERT',\n",
       " 'C1_CP_CIS-HIA_ONBOARD_MOMENTS_INERT/velocity_isr2__C1_CP_CIS-HIA_ONBOARD_MOMENTS_INERT',\n",
       " 'C1_CP_CIS-HIA_ONBOARD_MOMENTS_INERT/velocity_gse__C1_CP_CIS-HIA_ONBOARD_MOMENTS_INERT',\n",
       " 'C1_CP_CIS-HIA_ONBOARD_MOMENTS_INERT/B_vec_xyz_gse__C1_CP_CIS-HIA_ONBOARD_MOMENTS_INERT',\n",
       " 'C1_CP_CIS-HIA_ONBOARD_MOMENTS_INERT/sc_v_xyz_gse__C1_CP_CIS-HIA_ONBOARD_MOMENTS_INERT',\n",
       " 'C1_CP_CIS-HIA_ONBOARD_MOMENTS_INERT/sc_at1_lat__C1_CP_CIS-HIA_ONBOARD_MOMENTS_INERT',\n",
       " 'C1_CP_CIS-HIA_ONBOARD_MOMENTS_INERT/sc_at1_long__C1_CP_CIS-HIA_ONBOARD_MOMENTS_INERT']"
      ]
     },
     "execution_count": 17,
     "metadata": {},
     "output_type": "execute_result"
    }
   ],
   "source": [
    "[param for param in parameters if (\"C1_CP_CIS\" in param) & (\"MOMENT\" in param)]"
   ]
  },
  {
   "cell_type": "code",
   "execution_count": 18,
   "metadata": {},
   "outputs": [
    {
     "data": {
      "text/plain": [
       "['C1_CP_CIS-CODIF_RPA_H1_PF/3d_ions__C1_CP_CIS-CODIF_RPA_H1_PF',\n",
       " 'C1_CP_CIS-CODIF_HS_He2_PEF/3d_ions__C1_CP_CIS-CODIF_HS_He2_PEF',\n",
       " 'C1_CP_CIS-CODIF_RPA_H1_PEF/3d_ions__C1_CP_CIS-CODIF_RPA_H1_PEF',\n",
       " 'C1_CP_CIS-CODIF_LS_O1_RC/3d_ions__C1_CP_CIS-CODIF_LS_O1_RC',\n",
       " 'C1_CP_CIS-CODIF_LS_He1_RC/3d_ions__C1_CP_CIS-CODIF_LS_He1_RC',\n",
       " 'C1_CP_CIS-CODIF_HS_O1_CS/3d_ions__C1_CP_CIS-CODIF_HS_O1_CS',\n",
       " 'C1_CP_CIS-CODIF_HS_H1_PEF/3d_ions__C1_CP_CIS-CODIF_HS_H1_PEF',\n",
       " 'C1_CP_CIS-CODIF_LS_He2_PEF/3d_ions__C1_CP_CIS-CODIF_LS_He2_PEF',\n",
       " 'C1_CP_CIS-CODIF_LS_H1_PEF/3d_ions__C1_CP_CIS-CODIF_LS_H1_PEF',\n",
       " 'C1_CP_CIS-CODIF_LS_O1_CS/3d_ions__C1_CP_CIS-CODIF_LS_O1_CS',\n",
       " 'C1_CP_CIS-CODIF_LS_He2_CS/3d_ions__C1_CP_CIS-CODIF_LS_He2_CS',\n",
       " 'C1_CP_CIS-CODIF_HS_He2_PSD/3d_ions__C1_CP_CIS-CODIF_HS_He2_PSD',\n",
       " 'C1_CP_CIS-CODIF_HS_H1_PF/3d_ions__C1_CP_CIS-CODIF_HS_H1_PF',\n",
       " 'C1_CP_CIS-CODIF_HS_H1_RC/3d_ions__C1_CP_CIS-CODIF_HS_H1_RC',\n",
       " 'C1_CP_CIS-CODIF_HS_He2_PF/3d_ions__C1_CP_CIS-CODIF_HS_He2_PF',\n",
       " 'C1_CP_CIS-CODIF_HS_O1_PEF/3d_ions__C1_CP_CIS-CODIF_HS_O1_PEF',\n",
       " 'C1_CP_CIS-CODIF_HS_H1_MOMENTS_INERT/velocity_gse_inert__C1_CP_CIS-CODIF_HS_H1_MOMENTS_INERT',\n",
       " 'C1_CP_CIS-CODIF_HS_H1_MOMENTS_INERT/velocity_isr2_inert__C1_CP_CIS-CODIF_HS_H1_MOMENTS_INERT',\n",
       " 'C1_CP_CIS-CODIF_HS_H1_MOMENTS_INERT/velocity_perp_gse_inert__C1_CP_CIS-CODIF_HS_H1_MOMENTS_INERT',\n",
       " 'C1_CP_CIS-CODIF_HS_H1_MOMENTS_INERT/velocity_perp_isr2_inert__C1_CP_CIS-CODIF_HS_H1_MOMENTS_INERT',\n",
       " 'C1_CP_CIS-CODIF_HS_H1_MOMENTS_INERT/velocity_par_gse_inert__C1_CP_CIS-CODIF_HS_H1_MOMENTS_INERT',\n",
       " 'C1_CP_CIS-CODIF_HS_H1_MOMENTS_INERT/velocity_par_isr2_inert__C1_CP_CIS-CODIF_HS_H1_MOMENTS_INERT',\n",
       " 'C1_CP_CIS-CODIF_HS_H1_MOMENTS_INERT/Efield_GSE_INERT__C1_CP_CIS-CODIF_HS_H1_MOMENTS_INERT',\n",
       " 'C1_CP_CIS-CODIF_HS_H1_MOMENTS_INERT/Efield_ISR2_INERT__C1_CP_CIS-CODIF_HS_H1_MOMENTS_INERT',\n",
       " 'C1_CP_CIS-CODIF_HS_H1_MOMENTS_INERT/velocity__C1_CP_CIS-CODIF_HS_H1_MOMENTS_INERT',\n",
       " 'C1_CP_CIS-CODIF_HS_H1_MOMENTS_INERT/B_vec_xyz_gse__C1_CP_CIS-CODIF_HS_H1_MOMENTS_INERT',\n",
       " 'C1_CP_CIS-CODIF_HS_H1_MOMENTS_INERT/sc_v_xyz_gse__C1_CP_CIS-CODIF_HS_H1_MOMENTS_INERT',\n",
       " 'C1_CP_CIS-CODIF_HS_H1_MOMENTS_INERT/sc_at1_lat__C1_CP_CIS-CODIF_HS_H1_MOMENTS_INERT',\n",
       " 'C1_CP_CIS-CODIF_HS_H1_MOMENTS_INERT/sc_at1_long__C1_CP_CIS-CODIF_HS_H1_MOMENTS_INERT',\n",
       " 'C1_CP_CIS-CODIF_RPA_H1_RC/3d_ions__C1_CP_CIS-CODIF_RPA_H1_RC',\n",
       " 'C1_CP_CIS-CODIF_HS_O1_MOMENTS/velocity__C1_CP_CIS-CODIF_HS_O1_MOMENTS',\n",
       " 'C1_CP_CIS-CODIF_HS_O1_MOMENTS/pressure__C1_CP_CIS-CODIF_HS_O1_MOMENTS',\n",
       " 'C1_CP_CIS-CODIF_HS_O1_MOMENTS/density__C1_CP_CIS-CODIF_HS_O1_MOMENTS',\n",
       " 'C1_CP_CIS-CODIF_HS_O1_MOMENTS/T_par__C1_CP_CIS-CODIF_HS_O1_MOMENTS',\n",
       " 'C1_CP_CIS-CODIF_HS_O1_MOMENTS/T_perp__C1_CP_CIS-CODIF_HS_O1_MOMENTS',\n",
       " 'C1_CP_CIS-CODIF_HS_O1_MOMENTS/T__C1_CP_CIS-CODIF_HS_O1_MOMENTS',\n",
       " 'C1_CP_CIS-CODIF_RPA_He1_PF/3d_ions__C1_CP_CIS-CODIF_RPA_He1_PF',\n",
       " 'C1_CP_CIS-CODIF_RPA_He1_PSD/3d_ions__C1_CP_CIS-CODIF_RPA_He1_PSD',\n",
       " 'C1_CP_CIS-CODIF_RPA_He2_RC/3d_ions__C1_CP_CIS-CODIF_RPA_He2_RC',\n",
       " 'C1_CP_CIS-CODIF_HS_O1_PSD/3d_ions__C1_CP_CIS-CODIF_HS_O1_PSD',\n",
       " 'C1_CP_CIS-CODIF_HS_He1_PF/3d_ions__C1_CP_CIS-CODIF_HS_He1_PF',\n",
       " 'C1_CP_CIS-CODIF_HS_H1_PSD/3d_ions__C1_CP_CIS-CODIF_HS_H1_PSD',\n",
       " 'C1_CP_CIS-CODIF_HS_He2_CS/3d_ions__C1_CP_CIS-CODIF_HS_He2_CS',\n",
       " 'C1_CP_CIS-CODIF_RPA_He1_PEF/3d_ions__C1_CP_CIS-CODIF_RPA_He1_PEF',\n",
       " 'C1_CP_CIS-CODIF_He1_1D_PEF/flux__C1_CP_CIS-CODIF_He1_1D_PEF',\n",
       " 'C1_CP_CIS-CODIF_RPA_O1_PSD/3d_ions__C1_CP_CIS-CODIF_RPA_O1_PSD',\n",
       " 'C1_CP_CIS-CODIF_HS_He1_PSD/3d_ions__C1_CP_CIS-CODIF_HS_He1_PSD',\n",
       " 'C1_CP_CIS-CODIF_LS_O1_PF/3d_ions__C1_CP_CIS-CODIF_LS_O1_PF',\n",
       " 'C1_CP_CIS-CODIF_HS_H1_CS/3d_ions__C1_CP_CIS-CODIF_HS_H1_CS',\n",
       " 'C1_CP_CIS-CODIF_RPA_He2_CS/3d_ions__C1_CP_CIS-CODIF_RPA_He2_CS',\n",
       " 'C1_CP_CIS-CODIF_LS_He2_PSD/3d_ions__C1_CP_CIS-CODIF_LS_He2_PSD',\n",
       " 'C1_CP_CIS-CODIF_RPA_H1_PSD/3d_ions__C1_CP_CIS-CODIF_RPA_H1_PSD',\n",
       " 'C1_CP_CIS-CODIF_HS_H1_MOMENTS/velocity__C1_CP_CIS-CODIF_HS_H1_MOMENTS',\n",
       " 'C1_CP_CIS-CODIF_HS_H1_MOMENTS/pressure__C1_CP_CIS-CODIF_HS_H1_MOMENTS',\n",
       " 'C1_CP_CIS-CODIF_HS_H1_MOMENTS/T_par__C1_CP_CIS-CODIF_HS_H1_MOMENTS',\n",
       " 'C1_CP_CIS-CODIF_HS_H1_MOMENTS/T_perp__C1_CP_CIS-CODIF_HS_H1_MOMENTS',\n",
       " 'C1_CP_CIS-CODIF_HS_H1_MOMENTS/T__C1_CP_CIS-CODIF_HS_H1_MOMENTS',\n",
       " 'C1_CP_CIS-CODIF_HS_H1_MOMENTS/density__C1_CP_CIS-CODIF_HS_H1_MOMENTS',\n",
       " 'C1_CP_CIS-CODIF_RPA_He2_PEF/3d_ions__C1_CP_CIS-CODIF_RPA_He2_PEF',\n",
       " 'C1_CP_CIS-CODIF_LS_H1_PF/3d_ions__C1_CP_CIS-CODIF_LS_H1_PF',\n",
       " 'C1_CP_CIS-CODIF_HS_He1_MOMENTS/velocity__C1_CP_CIS-CODIF_HS_He1_MOMENTS',\n",
       " 'C1_CP_CIS-CODIF_HS_He1_MOMENTS/pressure__C1_CP_CIS-CODIF_HS_He1_MOMENTS',\n",
       " 'C1_CP_CIS-CODIF_HS_He1_MOMENTS/T_perp__C1_CP_CIS-CODIF_HS_He1_MOMENTS',\n",
       " 'C1_CP_CIS-CODIF_HS_He1_MOMENTS/density__C1_CP_CIS-CODIF_HS_He1_MOMENTS',\n",
       " 'C1_CP_CIS-CODIF_HS_He1_MOMENTS/T__C1_CP_CIS-CODIF_HS_He1_MOMENTS',\n",
       " 'C1_CP_CIS-CODIF_HS_He1_MOMENTS/T_par__C1_CP_CIS-CODIF_HS_He1_MOMENTS',\n",
       " 'C1_CP_CIS-CODIF_HS_O1_RC/3d_ions__C1_CP_CIS-CODIF_HS_O1_RC',\n",
       " 'C1_CP_CIS-CODIF_RPA_O1_PEF/3d_ions__C1_CP_CIS-CODIF_RPA_O1_PEF',\n",
       " 'C1_CP_CIS-CODIF_LS_H1_CS/3d_ions__C1_CP_CIS-CODIF_LS_H1_CS',\n",
       " 'C1_CP_CIS-CODIF_HS_He2_RC/3d_ions__C1_CP_CIS-CODIF_HS_He2_RC',\n",
       " 'C1_CP_CIS-CODIF_LS_He2_PF/3d_ions__C1_CP_CIS-CODIF_LS_He2_PF',\n",
       " 'C1_CP_CIS-CODIF_LS_O1_PEF/3d_ions__C1_CP_CIS-CODIF_LS_O1_PEF',\n",
       " 'C1_CP_CIS-CODIF_HS_O1_PF/3d_ions__C1_CP_CIS-CODIF_HS_O1_PF',\n",
       " 'C1_CP_CIS-CODIF_LS_O1_PSD/3d_ions__C1_CP_CIS-CODIF_LS_O1_PSD',\n",
       " 'C1_CP_CIS-CODIF_LS_He1_PSD/3d_ions__C1_CP_CIS-CODIF_LS_He1_PSD',\n",
       " 'C1_CP_CIS-CODIF_LS_He1_CS/3d_ions__C1_CP_CIS-CODIF_LS_He1_CS',\n",
       " 'C1_CP_CIS-CODIF_LS_H1_PSD/3d_ions__C1_CP_CIS-CODIF_LS_H1_PSD',\n",
       " 'C1_CP_CIS-CODIF_O1_1D_PEF/flux__C1_CP_CIS-CODIF_O1_1D_PEF',\n",
       " 'C1_CP_CIS-CODIF_H1_1D_PEF/flux__C1_CP_CIS-CODIF_H1_1D_PEF',\n",
       " 'C1_CP_CIS-CODIF_LS_He2_RC/3d_ions__C1_CP_CIS-CODIF_LS_He2_RC',\n",
       " 'C1_CP_CIS-CODIF_RPA_He1_RC/3d_ions__C1_CP_CIS-CODIF_RPA_He1_RC',\n",
       " 'C1_CP_CIS-CODIF_LS_He1_PEF/3d_ions__C1_CP_CIS-CODIF_LS_He1_PEF',\n",
       " 'C1_CP_CIS-CODIF_HS_He1_PEF/3d_ions__C1_CP_CIS-CODIF_HS_He1_PEF',\n",
       " 'C1_CP_CIS-CODIF_RPA_He2_PSD/3d_ions__C1_CP_CIS-CODIF_RPA_He2_PSD',\n",
       " 'C1_CP_CIS-CODIF_RPA_O1_RC/3d_ions__C1_CP_CIS-CODIF_RPA_O1_RC',\n",
       " 'C1_CP_CIS-CODIF_PAD_HS_He1_PF/Differential_Particle_Flux__C1_CP_CIS-CODIF_PAD_HS_He1_PF',\n",
       " 'C1_CP_CIS-CODIF_RPA_He1_CS/3d_ions__C1_CP_CIS-CODIF_RPA_He1_CS',\n",
       " 'C1_CP_CIS-CODIF_PAD_HS_H1_PF/Differential_Particle_Flux__C1_CP_CIS-CODIF_PAD_HS_H1_PF',\n",
       " 'C1_CP_CIS-CODIF_RPA_O1_PF/3d_ions__C1_CP_CIS-CODIF_RPA_O1_PF',\n",
       " 'C1_CP_CIS-CODIF_LS_He1_PF/3d_ions__C1_CP_CIS-CODIF_LS_He1_PF',\n",
       " 'C1_CP_CIS-CODIF_RPA_H1_CS/3d_ions__C1_CP_CIS-CODIF_RPA_H1_CS',\n",
       " 'C1_CP_CIS-CODIF_RPA_He2_PF/3d_ions__C1_CP_CIS-CODIF_RPA_He2_PF',\n",
       " 'C1_CP_CIS-CODIF_LS_H1_RC/3d_ions__C1_CP_CIS-CODIF_LS_H1_RC',\n",
       " 'C1_CP_CIS-CODIF_HS_He1_RC/3d_ions__C1_CP_CIS-CODIF_HS_He1_RC',\n",
       " 'C1_CP_CIS-CODIF_HS_He1_CS/3d_ions__C1_CP_CIS-CODIF_HS_He1_CS',\n",
       " 'C1_CP_CIS-CODIF_PAD_HS_O1_PF/Differential_Particle_Flux__C1_CP_CIS-CODIF_PAD_HS_O1_PF',\n",
       " 'C1_CP_CIS-CODIF_RPA_O1_CS/3d_ions__C1_CP_CIS-CODIF_RPA_O1_CS']"
      ]
     },
     "execution_count": 18,
     "metadata": {},
     "output_type": "execute_result"
    }
   ],
   "source": [
    "[param for param in parameters if (\"CODIF\" in param) & (\"C1\" in param)]"
   ]
  },
  {
   "cell_type": "code",
   "execution_count": 19,
   "metadata": {},
   "outputs": [
    {
     "name": "stdout",
     "output_type": "stream",
     "text": [
      "[<ParameterIndex: B_vec_xyz_gse__C2_CP_FGM_SPIN>, <ParameterIndex: sc_pos_xyz_gse__C2_CP_FGM_SPIN>]\n",
      "[<ParameterIndex: sc_pos_xyz_gse__C2_CP_FGM_SPIN>]\n"
     ]
    }
   ],
   "source": [
    "mag_products = [\n",
    "    csa_tree.Cluster.Cluster_2.FGM2.C2_CP_FGM_SPIN.B_vec_xyz_gse__C2_CP_FGM_SPIN,\n",
    "    csa_tree.Cluster.Cluster_2.FGM2.C2_CP_FGM_SPIN.sc_pos_xyz_gse__C2_CP_FGM_SPIN\n",
    "]\n",
    "\n",
    "pos_prod = [csa_tree.Cluster.Cluster_2.FGM2.C2_CP_FGM_SPIN.sc_pos_xyz_gse__C2_CP_FGM_SPIN]\n",
    "mag_data = spz.get_data(mag_products, start_time, end_time)\n",
    "pos_data = spz.get_data(pos_prod, start_time, end_time)\n",
    "\n",
    "print(mag_products)\n",
    "print(pos_prod)"
   ]
  },
  {
   "cell_type": "code",
   "execution_count": 20,
   "metadata": {},
   "outputs": [],
   "source": [
    "position_gse = pos_data[0].to_dataframe()"
   ]
  },
  {
   "cell_type": "code",
   "execution_count": 21,
   "metadata": {},
   "outputs": [
    {
     "data": {
      "text/html": [
       "<div>\n",
       "<style scoped>\n",
       "    .dataframe tbody tr th:only-of-type {\n",
       "        vertical-align: middle;\n",
       "    }\n",
       "\n",
       "    .dataframe tbody tr th {\n",
       "        vertical-align: top;\n",
       "    }\n",
       "\n",
       "    .dataframe thead th {\n",
       "        text-align: right;\n",
       "    }\n",
       "</style>\n",
       "<table border=\"1\" class=\"dataframe\">\n",
       "  <thead>\n",
       "    <tr style=\"text-align: right;\">\n",
       "      <th></th>\n",
       "      <th>x</th>\n",
       "      <th>y</th>\n",
       "      <th>z</th>\n",
       "    </tr>\n",
       "  </thead>\n",
       "  <tbody>\n",
       "    <tr>\n",
       "      <th>2011-07-23 01:00:02.727</th>\n",
       "      <td>-16756.500000</td>\n",
       "      <td>7243.700195</td>\n",
       "      <td>-1536.699951</td>\n",
       "    </tr>\n",
       "    <tr>\n",
       "      <th>2011-07-23 01:00:06.859</th>\n",
       "      <td>-16734.099609</td>\n",
       "      <td>7248.600098</td>\n",
       "      <td>-1525.599976</td>\n",
       "    </tr>\n",
       "    <tr>\n",
       "      <th>2011-07-23 01:00:10.991</th>\n",
       "      <td>-16711.599609</td>\n",
       "      <td>7253.399902</td>\n",
       "      <td>-1514.500000</td>\n",
       "    </tr>\n",
       "    <tr>\n",
       "      <th>2011-07-23 01:00:15.123</th>\n",
       "      <td>-16689.099609</td>\n",
       "      <td>7258.200195</td>\n",
       "      <td>-1503.400024</td>\n",
       "    </tr>\n",
       "    <tr>\n",
       "      <th>2011-07-23 01:00:19.256</th>\n",
       "      <td>-16666.599609</td>\n",
       "      <td>7263.000000</td>\n",
       "      <td>-1492.300049</td>\n",
       "    </tr>\n",
       "    <tr>\n",
       "      <th>...</th>\n",
       "      <td>...</td>\n",
       "      <td>...</td>\n",
       "      <td>...</td>\n",
       "    </tr>\n",
       "    <tr>\n",
       "      <th>2011-07-23 01:59:41.166</th>\n",
       "      <td>8624.700195</td>\n",
       "      <td>-2013.000000</td>\n",
       "      <td>1854.900024</td>\n",
       "    </tr>\n",
       "    <tr>\n",
       "      <th>2011-07-23 01:59:45.298</th>\n",
       "      <td>8639.000000</td>\n",
       "      <td>-2044.500000</td>\n",
       "      <td>1840.400024</td>\n",
       "    </tr>\n",
       "    <tr>\n",
       "      <th>2011-07-23 01:59:49.430</th>\n",
       "      <td>8653.299805</td>\n",
       "      <td>-2076.100098</td>\n",
       "      <td>1825.900024</td>\n",
       "    </tr>\n",
       "    <tr>\n",
       "      <th>2011-07-23 01:59:53.563</th>\n",
       "      <td>8667.400391</td>\n",
       "      <td>-2107.600098</td>\n",
       "      <td>1811.400024</td>\n",
       "    </tr>\n",
       "    <tr>\n",
       "      <th>2011-07-23 01:59:57.695</th>\n",
       "      <td>8681.500000</td>\n",
       "      <td>-2139.100098</td>\n",
       "      <td>1796.800049</td>\n",
       "    </tr>\n",
       "  </tbody>\n",
       "</table>\n",
       "<p>870 rows × 3 columns</p>\n",
       "</div>"
      ],
      "text/plain": [
       "                                    x            y            z\n",
       "2011-07-23 01:00:02.727 -16756.500000  7243.700195 -1536.699951\n",
       "2011-07-23 01:00:06.859 -16734.099609  7248.600098 -1525.599976\n",
       "2011-07-23 01:00:10.991 -16711.599609  7253.399902 -1514.500000\n",
       "2011-07-23 01:00:15.123 -16689.099609  7258.200195 -1503.400024\n",
       "2011-07-23 01:00:19.256 -16666.599609  7263.000000 -1492.300049\n",
       "...                               ...          ...          ...\n",
       "2011-07-23 01:59:41.166   8624.700195 -2013.000000  1854.900024\n",
       "2011-07-23 01:59:45.298   8639.000000 -2044.500000  1840.400024\n",
       "2011-07-23 01:59:49.430   8653.299805 -2076.100098  1825.900024\n",
       "2011-07-23 01:59:53.563   8667.400391 -2107.600098  1811.400024\n",
       "2011-07-23 01:59:57.695   8681.500000 -2139.100098  1796.800049\n",
       "\n",
       "[870 rows x 3 columns]"
      ]
     },
     "execution_count": 21,
     "metadata": {},
     "output_type": "execute_result"
    }
   ],
   "source": [
    "position_gse"
   ]
  },
  {
   "cell_type": "code",
   "execution_count": 22,
   "metadata": {},
   "outputs": [
    {
     "name": "stdout",
     "output_type": "stream",
     "text": [
      "                                    x            y            z    Radius\n",
      "2011-07-23 01:00:02.727 -16756.500000  7243.700195 -1536.699951  2.875489\n",
      "2011-07-23 01:00:06.859 -16734.099609  7248.600098 -1525.599976  2.872432\n",
      "2011-07-23 01:00:10.991 -16711.599609  7253.399902 -1514.500000  2.869357\n",
      "2011-07-23 01:00:15.123 -16689.099609  7258.200195 -1503.400024  2.866285\n",
      "2011-07-23 01:00:19.256 -16666.599609  7263.000000 -1492.300049  2.863214\n",
      "...                               ...          ...          ...       ...\n",
      "2011-07-23 01:59:41.166   8624.700195 -2013.000000  1854.900024  1.420289\n",
      "2011-07-23 01:59:45.298   8639.000000 -2044.500000  1840.400024  1.423071\n",
      "2011-07-23 01:59:49.430   8653.299805 -2076.100098  1825.900024  1.425876\n",
      "2011-07-23 01:59:53.563   8667.400391 -2107.600098  1811.400024  1.428666\n",
      "2011-07-23 01:59:57.695   8681.500000 -2139.100098  1796.800049  1.431472\n",
      "\n",
      "[870 rows x 4 columns]\n",
      "1.0869509440287364\n",
      "2011-07-23 01:00:02.727    2.807803e+08\n",
      "2011-07-23 01:00:06.859    2.800301e+08\n",
      "2011-07-23 01:00:10.991    2.792776e+08\n",
      "2011-07-23 01:00:15.123    2.785260e+08\n",
      "2011-07-23 01:00:19.256    2.777755e+08\n",
      "                               ...     \n",
      "2011-07-23 01:59:41.166    7.438545e+07\n",
      "2011-07-23 01:59:45.298    7.463232e+07\n",
      "2011-07-23 01:59:49.430    7.487960e+07\n",
      "2011-07-23 01:59:53.563    7.512383e+07\n",
      "2011-07-23 01:59:57.695    7.536844e+07\n",
      "Name: x, Length: 870, dtype: float64\n"
     ]
    }
   ],
   "source": [
    "position_gse['Radius'] = sqrt(((position_gse['x'])**2 + (position_gse['y']**2)) + (position_gse['z'])**2) /(6371) \n",
    "print(position_gse)\n",
    "min_rad =  min(position_gse['Radius'])\n",
    "print (min_rad)\n",
    "example = (position_gse['x'])**2\n",
    "print (example)"
   ]
  }
 ],
 "metadata": {
  "kernelspec": {
   "display_name": "base",
   "language": "python",
   "name": "python3"
  },
  "language_info": {
   "codemirror_mode": {
    "name": "ipython",
    "version": 3
   },
   "file_extension": ".py",
   "mimetype": "text/x-python",
   "name": "python",
   "nbconvert_exporter": "python",
   "pygments_lexer": "ipython3",
   "version": "3.10.9"
  },
  "orig_nbformat": 4
 },
 "nbformat": 4,
 "nbformat_minor": 2
}
